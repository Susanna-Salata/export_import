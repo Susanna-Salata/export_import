{
  "nbformat": 4,
  "nbformat_minor": 0,
  "metadata": {
    "colab": {
      "provenance": [],
      "authorship_tag": "ABX9TyOI8OcEB7DbPtqJC3bG1ADv",
      "include_colab_link": true
    },
    "kernelspec": {
      "name": "python3",
      "display_name": "Python 3"
    },
    "language_info": {
      "name": "python"
    }
  },
  "cells": [
    {
      "cell_type": "markdown",
      "metadata": {
        "id": "view-in-github",
        "colab_type": "text"
      },
      "source": [
        "<a href=\"https://colab.research.google.com/github/Susanna-Salata/export_import/blob/main/Export_Import_2022_v2_ipynb%22.ipynb\" target=\"_parent\"><img src=\"https://colab.research.google.com/assets/colab-badge.svg\" alt=\"Open In Colab\"/></a>"
      ]
    },
    {
      "cell_type": "code",
      "source": [
        "!pip install pandas openpyxl pyxlsb"
      ],
      "metadata": {
        "colab": {
          "base_uri": "https://localhost:8080/"
        },
        "id": "5i1PiJntlywx",
        "outputId": "fcdf3a47-f6c6-45d4-9198-1200034afc67"
      },
      "execution_count": 1,
      "outputs": [
        {
          "output_type": "stream",
          "name": "stdout",
          "text": [
            "Requirement already satisfied: pandas in c:\\users\\susan\\appdata\\local\\programs\\python\\python39\\lib\\site-packages (1.4.3)\n",
            "Requirement already satisfied: openpyxl in c:\\users\\susan\\appdata\\local\\programs\\python\\python39\\lib\\site-packages (3.0.10)\n",
            "Requirement already satisfied: pyxlsb in c:\\users\\susan\\appdata\\local\\programs\\python\\python39\\lib\\site-packages (1.0.10)\n",
            "Requirement already satisfied: pytz>=2020.1 in c:\\users\\susan\\appdata\\local\\programs\\python\\python39\\lib\\site-packages (from pandas) (2022.1)\n",
            "Requirement already satisfied: python-dateutil>=2.8.1 in c:\\users\\susan\\appdata\\local\\programs\\python\\python39\\lib\\site-packages (from pandas) (2.8.2)\n",
            "Requirement already satisfied: numpy>=1.18.5 in c:\\users\\susan\\appdata\\local\\programs\\python\\python39\\lib\\site-packages (from pandas) (1.23.1)\n",
            "Requirement already satisfied: et-xmlfile in c:\\users\\susan\\appdata\\local\\programs\\python\\python39\\lib\\site-packages (from openpyxl) (1.1.0)\n",
            "Requirement already satisfied: six>=1.5 in c:\\users\\susan\\appdata\\local\\programs\\python\\python39\\lib\\site-packages (from python-dateutil>=2.8.1->pandas) (1.16.0)\n"
          ]
        },
        {
          "output_type": "stream",
          "name": "stderr",
          "text": [
            "\n",
            "[notice] A new release of pip available: 22.3.1 -> 23.0.1\n",
            "[notice] To update, run: python.exe -m pip install --upgrade pip\n"
          ]
        }
      ]
    },
    {
      "cell_type": "code",
      "execution_count": 2,
      "metadata": {
        "id": "JH8h9-0AZ6VU"
      },
      "outputs": [],
      "source": [
        "import pandas as pd\n",
        "import numpy as np\n",
        "import glob\n",
        "from datetime import datetime"
      ]
    },
    {
      "cell_type": "markdown",
      "source": [
        "# Read raw data"
      ],
      "metadata": {
        "id": "3mR6m01zUDRD"
      }
    },
    {
      "cell_type": "code",
      "source": [
        "data_path = \"D:/projects/export_import/data/v2/\"\n",
        "year_path = '2022'\n"
      ],
      "metadata": {
        "id": "YZHlMJ7AgxmJ"
      },
      "execution_count": 3,
      "outputs": []
    },
    {
      "cell_type": "code",
      "source": [],
      "metadata": {
        "id": "OW_KCz3m4apv"
      },
      "execution_count": 3,
      "outputs": []
    },
    {
      "cell_type": "code",
      "source": [
        "file_list = glob.glob(data_path + year_path + \"/*\")\n",
        "file_list"
      ],
      "metadata": {
        "colab": {
          "base_uri": "https://localhost:8080/"
        },
        "id": "mdWFFsV5jqIx",
        "outputId": "c0f06d0b-45af-4a22-c3b7-173e18483b28"
      },
      "execution_count": 4,
      "outputs": [
        {
          "output_type": "execute_result",
          "data": {
            "text/plain": [
              "['D:/projects/export_import/data/v2/2022\\\\01.xlsb',\n",
              " 'D:/projects/export_import/data/v2/2022\\\\02.xlsx',\n",
              " 'D:/projects/export_import/data/v2/2022\\\\03.xlsx',\n",
              " 'D:/projects/export_import/data/v2/2022\\\\04.xlsx',\n",
              " 'D:/projects/export_import/data/v2/2022\\\\05.xlsx',\n",
              " 'D:/projects/export_import/data/v2/2022\\\\06.xlsx',\n",
              " 'D:/projects/export_import/data/v2/2022\\\\07.xlsx',\n",
              " 'D:/projects/export_import/data/v2/2022\\\\08.xlsx',\n",
              " 'D:/projects/export_import/data/v2/2022\\\\09.xlsx',\n",
              " 'D:/projects/export_import/data/v2/2022\\\\10.xlsx',\n",
              " 'D:/projects/export_import/data/v2/2022\\\\11.xlsx',\n",
              " 'D:/projects/export_import/data/v2/2022\\\\12.xlsx']"
            ]
          },
          "metadata": {},
          "execution_count": 4
        }
      ]
    },
    {
      "cell_type": "code",
      "source": [
        "# the collection to store all months\n",
        "col_names = ['Column1', 'Системный номер', 'Тип ВМД', 'Митниця', 'Відправник',\n",
        "       'Відправник 2', 'ОКПЕО Одержувач', 'Одержувач', 'Адресa Одержувача',\n",
        "       'ОКПЕО Декларанта', 'Декларант', 'Адресa Декларанта', 'Підрозділ',\n",
        "       '№ ВМД', '№ товару', 'Дата оформлення', 'Код товару', 'ТМ',\n",
        "       'Опис товару', 'РМВ, USD/1кг', 'Країна походження', 'Вага брутто, кг',\n",
        "       'Вага нетто, кг', 'Умови поставки', 'Кількість в додаткових одиницях',\n",
        "       'Код додаткової одиниці', 'Метод ВМВ', 'СТ 55',\n",
        "       'Фактурна вартість, USD/1кг', 'Митна вартiсть, грн', 'МВ дол США',\n",
        "       'Розрахункова МВ, USD/1ШТ', 'контракт', 'Контейнер',\n",
        "       'Вид тр-та до кордону', 'Вид тр-та на кордоні', 'Тр на кордоні',\n",
        "       'Ставка мита', 'преференц мито', 'Процедура', 'Митниця на кордоні',\n",
        "       'Довідка ВКМВ', 'Дaта', 'курс $', 'курс Евро',\n",
        "       'ЕДРОПОУ Контрактодержатель', 'Контрактодержатель', 'ИНН Брокера',\n",
        "       'Брокер', '_1']\n",
        "data_list = [pd.DataFrame(columns=col_names) for i in range(1, 13)]"
      ],
      "metadata": {
        "id": "-o0QmcWJiL83"
      },
      "execution_count": 5,
      "outputs": []
    },
    {
      "cell_type": "markdown",
      "source": [
        "## Procesing months 4, 6, 7, 8"
      ],
      "metadata": {
        "id": "03hG-Cfv4Kzx"
      }
    },
    {
      "cell_type": "code",
      "source": [
        "# read months with normal structure\n",
        "for m in [4, 6, 7, 8]:\n",
        "    file_path = file_list[m - 1]\n",
        "    data_list[m - 1] = pd.read_excel(file_path, sheet_name=0, \n",
        "                    dtype=str,\n",
        "                    skiprows=0,\n",
        "                    header=[0])"
      ],
      "metadata": {
        "id": "Jkz2_5kliLpr"
      },
      "execution_count": 6,
      "outputs": []
    },
    {
      "cell_type": "markdown",
      "source": [
        "## Procesing month 1"
      ],
      "metadata": {
        "id": "pviVbi_34vlb"
      }
    },
    {
      "cell_type": "code",
      "source": [
        "# read 1st month\n",
        "m = 1\n",
        "file_path = file_list[m - 1]\n",
        "df_temp = pd.read_excel(file_path, sheet_name=0, \n",
        "                dtype=str,\n",
        "                skiprows=0,\n",
        "                header=[0])\n"
      ],
      "metadata": {
        "id": "bGso3g3dkdlv"
      },
      "execution_count": 7,
      "outputs": []
    },
    {
      "cell_type": "code",
      "source": [
        "df_temp[\"blanc\"] = \"\""
      ],
      "metadata": {
        "id": "NJooDNuewfBh"
      },
      "execution_count": 8,
      "outputs": []
    },
    {
      "cell_type": "code",
      "source": [
        "df_temp[\"Опис товару\"] = df_temp[\"Опис товару1\"] + df_temp[\"Опис товару2\"].fillna(\"\")\n",
        "df_temp[\"Опис товару\"]"
      ],
      "metadata": {
        "colab": {
          "base_uri": "https://localhost:8080/"
        },
        "id": "rXItz9miuu91",
        "outputId": "457b4325-fd93-400e-90dc-97a40e1dc67e"
      },
      "execution_count": 9,
      "outputs": [
        {
          "output_type": "execute_result",
          "data": {
            "text/plain": [
              "0         1. Добрива мінеральні, азотні: сульфатамонію к...\n",
              "1         1. Добрива мінеральні або хімічні,азотні: Azot...\n",
              "2         1.Етикетки самоклейні з однієї сторони, у руло...\n",
              "3         1.Етикетки самоклейні з однієї сторони, у руло...\n",
              "4         1.Автомобіль легковий з двигуном внутрішнього ...\n",
              "                                ...                        \n",
              "577204    1. Змінні фільтрувальні картриджі,складаються ...\n",
              "577205    1. Змінні фільтрувальні картриджі,складаються ...\n",
              "577206    1. Радіонавігаціїний прилад для контролютраект...\n",
              "577207    1. Радіонавігаціїний прилад для контролютраект...\n",
              "577208    1. Проводи ізольовані оснащенізєднувальними пр...\n",
              "Name: Опис товару, Length: 577209, dtype: object"
            ]
          },
          "metadata": {},
          "execution_count": 9
        }
      ]
    },
    {
      "cell_type": "code",
      "source": [
        "#df_temp.info()"
      ],
      "metadata": {
        "id": "l1CjXikkwITP"
      },
      "execution_count": 10,
      "outputs": []
    },
    {
      "cell_type": "code",
      "source": [
        "col_id = [-1, -1, 0, 1, 2, 3, 4, 5, 6, 7, 8, 9, 10, 11, 12, 13, 14, 15, 46, 30, \n",
        "          20, 21, 22, 19, 23, 24, 25, 26, 27, 28, 29, -1, -1, 33, 34, 35, 36, \n",
        "          37,38, 39, 40, 41, 42, 43, 44, -1, -1, -1, -1, -1] \n",
        "len(col_id)"
      ],
      "metadata": {
        "colab": {
          "base_uri": "https://localhost:8080/"
        },
        "id": "weAGqzAPwcmK",
        "outputId": "b7e8252a-ec5d-42d0-94fb-1d748f1b9ead"
      },
      "execution_count": 11,
      "outputs": [
        {
          "output_type": "execute_result",
          "data": {
            "text/plain": [
              "50"
            ]
          },
          "metadata": {},
          "execution_count": 11
        }
      ]
    },
    {
      "cell_type": "code",
      "source": [
        "# set proper column names\n",
        "df_temp = df_temp.iloc[:, col_id]\n",
        "df_temp.columns = col_names\n",
        "df_temp"
      ],
      "metadata": {
        "id": "PmskoqwEDXYA"
      },
      "execution_count": null,
      "outputs": []
    },
    {
      "cell_type": "code",
      "source": [
        "# save the result to first month\n",
        "data_list[0] = df_temp.iloc[:, col_id]"
      ],
      "metadata": {
        "id": "3e0ZFJGtxneZ"
      },
      "execution_count": 12,
      "outputs": []
    },
    {
      "cell_type": "code",
      "source": [
        "df_temp.iloc[:, [16,17]][df_temp[\"Опис товару2\"].notnull()]"
      ],
      "metadata": {
        "colab": {
          "base_uri": "https://localhost:8080/",
          "height": 423
        },
        "id": "OvmonuFOikcD",
        "outputId": "b26f03ad-e042-4372-ebc6-b820ae5ef098"
      },
      "execution_count": 13,
      "outputs": [
        {
          "output_type": "execute_result",
          "data": {
            "text/plain": [
              "                                             Опис товару1  \\\n",
              "13      1.Поліефіри прості: торг.назва Laromer® LR 886...   \n",
              "14      1. Готові харчові вироби:Продукти дитячого хар...   \n",
              "61      1. Електронні випаровувачі, які використовують...   \n",
              "110     1.ВЗУТТЯ НА ПІДОШВІ З ГУМИ, ПЛАСТМАСИ ТА ВЕРХО...   \n",
              "116     1.ВЗУТТЯ НА ПІДОШВІ З ГУМИ, ПЛАСТМАСИ ТА З ВЕР...   \n",
              "...                                                   ...   \n",
              "576635  1.Стабілізатори системи підвіскиавтомобілів, н...   \n",
              "576636  1.Частини кермового механізмуавтомобілів, нові...   \n",
              "576799  1. Вироби з чорного металу штамповані,для циві...   \n",
              "577082  1.Вироби медичного призначення з нанесеним від...   \n",
              "577201  1. Змінні фільтрувальні картриджі,складаються ...   \n",
              "\n",
              "                                             Опис товару2  \n",
              "13      ться як компонент при виробництві покриттів та...  \n",
              "14       концентрований, сік чорної смородини концентр...  \n",
              "61      смак: Raspberry Yogurt, батарейка: 850 mAh, об...  \n",
              "110     д: 100% ПОЛІЕСТЕР, підошва: 100% ТЕРМОПЛАСТИКО...  \n",
              "116     РА, підошва: 100% ГУМАТорговельна марка ZARAВи...  \n",
              "...                                                   ...  \n",
              "576635   -13шт. арт. 19164 стійка стабілізатора -20шт....  \n",
              "576636  4 кермова тяга -2шт. арт. 19211 кермова тяга -...  \n",
              "576799  т. Толщинне прокладення 238141A2-20шт. Толщинн...  \n",
              "577082  pcs, size S(5-6) (уп.по100шт.)-200шт. ZARYS-RN...  \n",
              "577201  20шт. Елемент фільтру паливного 6650457140-40ш...  \n",
              "\n",
              "[44050 rows x 2 columns]"
            ],
            "text/html": [
              "<div>\n",
              "<style scoped>\n",
              "    .dataframe tbody tr th:only-of-type {\n",
              "        vertical-align: middle;\n",
              "    }\n",
              "\n",
              "    .dataframe tbody tr th {\n",
              "        vertical-align: top;\n",
              "    }\n",
              "\n",
              "    .dataframe thead th {\n",
              "        text-align: right;\n",
              "    }\n",
              "</style>\n",
              "<table border=\"1\" class=\"dataframe\">\n",
              "  <thead>\n",
              "    <tr style=\"text-align: right;\">\n",
              "      <th></th>\n",
              "      <th>Опис товару1</th>\n",
              "      <th>Опис товару2</th>\n",
              "    </tr>\n",
              "  </thead>\n",
              "  <tbody>\n",
              "    <tr>\n",
              "      <th>13</th>\n",
              "      <td>1.Поліефіри прості: торг.назва Laromer® LR 886...</td>\n",
              "      <td>ться як компонент при виробництві покриттів та...</td>\n",
              "    </tr>\n",
              "    <tr>\n",
              "      <th>14</th>\n",
              "      <td>1. Готові харчові вироби:Продукти дитячого хар...</td>\n",
              "      <td>концентрований, сік чорної смородини концентр...</td>\n",
              "    </tr>\n",
              "    <tr>\n",
              "      <th>61</th>\n",
              "      <td>1. Електронні випаровувачі, які використовують...</td>\n",
              "      <td>смак: Raspberry Yogurt, батарейка: 850 mAh, об...</td>\n",
              "    </tr>\n",
              "    <tr>\n",
              "      <th>110</th>\n",
              "      <td>1.ВЗУТТЯ НА ПІДОШВІ З ГУМИ, ПЛАСТМАСИ ТА ВЕРХО...</td>\n",
              "      <td>д: 100% ПОЛІЕСТЕР, підошва: 100% ТЕРМОПЛАСТИКО...</td>\n",
              "    </tr>\n",
              "    <tr>\n",
              "      <th>116</th>\n",
              "      <td>1.ВЗУТТЯ НА ПІДОШВІ З ГУМИ, ПЛАСТМАСИ ТА З ВЕР...</td>\n",
              "      <td>РА, підошва: 100% ГУМАТорговельна марка ZARAВи...</td>\n",
              "    </tr>\n",
              "    <tr>\n",
              "      <th>...</th>\n",
              "      <td>...</td>\n",
              "      <td>...</td>\n",
              "    </tr>\n",
              "    <tr>\n",
              "      <th>576635</th>\n",
              "      <td>1.Стабілізатори системи підвіскиавтомобілів, н...</td>\n",
              "      <td>-13шт. арт. 19164 стійка стабілізатора -20шт....</td>\n",
              "    </tr>\n",
              "    <tr>\n",
              "      <th>576636</th>\n",
              "      <td>1.Частини кермового механізмуавтомобілів, нові...</td>\n",
              "      <td>4 кермова тяга -2шт. арт. 19211 кермова тяга -...</td>\n",
              "    </tr>\n",
              "    <tr>\n",
              "      <th>576799</th>\n",
              "      <td>1. Вироби з чорного металу штамповані,для циві...</td>\n",
              "      <td>т. Толщинне прокладення 238141A2-20шт. Толщинн...</td>\n",
              "    </tr>\n",
              "    <tr>\n",
              "      <th>577082</th>\n",
              "      <td>1.Вироби медичного призначення з нанесеним від...</td>\n",
              "      <td>pcs, size S(5-6) (уп.по100шт.)-200шт. ZARYS-RN...</td>\n",
              "    </tr>\n",
              "    <tr>\n",
              "      <th>577201</th>\n",
              "      <td>1. Змінні фільтрувальні картриджі,складаються ...</td>\n",
              "      <td>20шт. Елемент фільтру паливного 6650457140-40ш...</td>\n",
              "    </tr>\n",
              "  </tbody>\n",
              "</table>\n",
              "<p>44050 rows × 2 columns</p>\n",
              "</div>"
            ]
          },
          "metadata": {},
          "execution_count": 13
        }
      ]
    },
    {
      "cell_type": "code",
      "source": [
        "col_id_all =[\n",
        "  #1\n",
        "  [-1, -1, 0, 1, 2, 3, 4, 5, 6, 7, 8, 9, 10, 11, 12, 13, 14, 15, 46, 30, 20, 21, 22, 19, 23, 24, 25, 26, 27, 28, 29, -1, -1, 33, 34, 35, 36, 37,38, 39, 40, 41, 42, 43, 44, -1, -1, -1, -1, -1],\n",
        "  #2 \n",
        "  [-1, -1, -1, -1, 0, 1, 2, 3, 4, 5, 6, 7, 8, 9, 10, 11, 12, 13, 14, 15, 16, 17, 18, 19, 20, 21, 22, 23, 24, 25, 26, 27, 28, 29, 30, 31, 32, 33, 34, 35, 36, 37, 38, 39, 40, 41, 42, 43, 44, 45],\n",
        "  #3\n",
        "  [-1, -1, 1, 2, 4, -1, 5, 6, -1, -1, -1, -1, -1, -1, 2, -1, 8, -1, 9, -1, 12, 15, 16, -1, 13, 14, -1, -1, -1, -1, -1, -1, 20,-1, -1, -1, -1, -1, -1, -1, -1, -1, 3, -1, -1, -1, -1, -1, -1, -1],\n",
        "  #4\n",
        "  [0, 1, 2, 3, 4, 5, 6, 7, 8, 9, 10, 11, 12, 13, 14, 15, 16, 17, 18, 19, 20, 21, 22, 23, 24, 25, 26, 27, 28, 29, 30, 31, 32, 33, 34, 35, 36, 37, 38, 39, 40, 41, 42, 43, 44, 45, 46, 47, 48, 49],\n",
        "  #5\n",
        "  [-1, -1, -1, -1, 0, 1, 2, 3, 4, 5, 6, 7, 8, 9, 10, 11, 12, 13, 14, 15, 16, 17, 18, 19, 20, 21, 22, 23, 24, 25, 26, 27, 28, 29, 30, 31, 32, 33, 34, 35, 36, 37, 38, 39, 40, 41, 42, 43, 44, 45],\n",
        "  #6\n",
        "  [0, 1, 2, 3, 4, 5, 6, 7, 8, 9, 10, 11, 12, 13, 14, 15, 16, 17, 18, 19, 20, 21, 22, 23, 24, 25, 26, 27, 28, 29, 30, 31, 32, 33, 34, 35, 36, 37, 38, 39, 40, 41, 42, 43, 44, 45, 46, 47, 48, 49],\n",
        "  #7\n",
        "  [0, 1, 2, 3, 4, 5, 6, 7, 8, 9, 10, 11, 12, 13, 14, 15, 16, 17, 18, 19, 20, 21, 22, 23, 24, 25, 26, 27, 28, 29, 30, 31, 32, 33, 34, 35, 36, 37, 38, 39, 40, 41, 42, 43, 44, 45, 46, 47, 48, 49],\n",
        "  #8\n",
        "  [0, 1, 2, 3, 4, 5, 6, 7, 8, 9, 10, 11, 12, 13, 14, 15, 16, 17, 18, 19, 20, 21, 22, 23, 24, 25, 26, 27, 28, 29, 30, 31, 32, 33, 34, 35, 36, 37, 38, 39, 40, 41, 42, 43, 44, 45, 46, 47, 48, 49],\n",
        "  #9\n",
        "\n",
        "  #10\n",
        "  \n",
        "  #11\n",
        "  [-1, -1, 1, 2, 4, -1, 5, 6, -1, -1, -1, -1, -1, -1, 2, -1, 8, -1, 9, -1, 12, 15, 16, -1, 13, 14, -1, -1, -1, -1, -1, -1, 20,-1, -1, -1, -1, -1, -1, -1, -1, -1, 3, -1, -1, -1, -1, -1, -1, -1],\n",
        "  #12\n",
        "  [-1, -1, 1, 2, 4, -1, 5, 6, -1, -1, -1, -1, -1, -1, 2, -1, 8, -1, 9, -1, 12, 15, 16, -1, 13, 14, -1, -1, -1, -1, -1, -1, 20,-1, -1, -1, -1, -1, -1, -1, -1, -1, 3, -1, -1, -1, -1, -1, -1, -1]\n",
        "]"
      ],
      "metadata": {
        "id": "GsVsZQ-nE7C0"
      },
      "execution_count": null,
      "outputs": []
    },
    {
      "cell_type": "code",
      "source": [
        "def read_data(m, col_id, data_list, col_names):\n",
        "    file_path = file_list[m - 1]\n",
        "    df_temp = pd.read_excel(file_path, sheet_name=0, \n",
        "                    dtype=str,\n",
        "                    skiprows=0,\n",
        "                    header=[0])\n",
        "    df_temp[\"blanc\"] = \"\"\n",
        "    df_temp = df_temp.iloc[:, col_id]\n",
        "    df_temp.columns = col_names\n",
        "    data_list[m-1] = df_temp"
      ],
      "metadata": {
        "id": "2ui_wIos5qoL"
      },
      "execution_count": null,
      "outputs": []
    },
    {
      "cell_type": "code",
      "source": [],
      "metadata": {
        "id": "-W1feNg75qiP"
      },
      "execution_count": null,
      "outputs": []
    },
    {
      "cell_type": "code",
      "source": [],
      "metadata": {
        "id": "ok-YhgUr5qfs"
      },
      "execution_count": null,
      "outputs": []
    },
    {
      "cell_type": "code",
      "source": [
        "file_path = file_list[3]\n",
        "df_temp = pd.read_excel(file_path, sheet_name=0, \n",
        "                   dtype=str,\n",
        "                #    names=[\"date\", \"custom_id\", \"doc_id\", \"row_id\", \"code\", \"discription\", \"custom\", \n",
        "                #           \"edrpou_seller\", \"seller\", \"edrpou_ukr\", \"ukr_side\", \n",
        "                #           \"country\", \"buyer\", \"buyer_2\", \"base\", \n",
        "                #           \"transport_ukr\", \"transport_custom\", \"units\", \"amount\",\n",
        "                #           \"weight\", \"doc_price_usd\", \"custom_price_usd\", \n",
        "                #           \"doc_type\", \"regime\"],\n",
        "                   skiprows=0,\n",
        "                   header=[0])"
      ],
      "metadata": {
        "id": "E2oUDFq4GKSe"
      },
      "execution_count": 23,
      "outputs": []
    },
    {
      "cell_type": "code",
      "source": [
        "df_temp.head(2)"
      ],
      "metadata": {
        "colab": {
          "base_uri": "https://localhost:8080/",
          "height": 369
        },
        "id": "qOilrLfCHkEs",
        "outputId": "dbc733f0-473b-40fa-e70d-06dc4a5ef475"
      },
      "execution_count": 24,
      "outputs": [
        {
          "output_type": "execute_result",
          "data": {
            "text/plain": [
              "  Column1 Системный номер   Тип ВМД Митниця  \\\n",
              "0     NaN          577210  ІМ/40/АА     209   \n",
              "1     NaN          577211  ІМ/40/ДЕ     209   \n",
              "\n",
              "                                          Відправник  \\\n",
              "0  TM MANUFACTURING INC 600 MARKLEY STREET 07064 ...   \n",
              "1  VITA FRUIT SP Z O O UL DYNOWSKA 60 37 200 PRZE...   \n",
              "\n",
              "                                        Відправник 2 ОКПЕО Одержувач  \\\n",
              "0  TM MANUFACTURING INC 1709 BELL ROAD FORT GIBSO...      3065716756   \n",
              "1                                                           43584554   \n",
              "\n",
              "                                           Одержувач Адресa Одержувача  \\\n",
              "0  ФОП БАРСЬКИЙ АНАТОЛІЙ ЯКОВИЧВУЛ ЖУТІВСЬКА БУД ...                     \n",
              "1  ТОВ ФРУКТАТРЕЙД 79058 М ЛЬВІВ ВУЛ ХУТОРІВКА БУ...                     \n",
              "\n",
              "  ОКПЕО Декларанта  ... Митниця на кордоні Довідка ВКМВ Дaта курс $ курс Евро  \\\n",
              "0         33951294  ...                                         293             \n",
              "1         43584554  ...           UA209030                      293             \n",
              "\n",
              "  ЕДРОПОУ Контрактодержатель  \\\n",
              "0                 3065716756   \n",
              "1                   43584554   \n",
              "\n",
              "                                  Контрактодержатель ИНН Брокера  \\\n",
              "0  ФОП БАРСЬКИЙ АНАТОЛІЙ ЯКОВИЧВУЛ ЖУТІВСЬКА БУД ...  3328515243   \n",
              "1  ТОВ ФРУКТАТРЕЙД 79058 М ЛЬВІВ ВУЛ ХУТОРІВКА БУ...  3008918852   \n",
              "\n",
              "                          Брокер   _1  \n",
              "0       БАЛАКАН Ю А 380632255419  NaN  \n",
              "1  МИРОШНИЧЕНКО А О 380674242596  NaN  \n",
              "\n",
              "[2 rows x 50 columns]"
            ],
            "text/html": [
              "<div>\n",
              "<style scoped>\n",
              "    .dataframe tbody tr th:only-of-type {\n",
              "        vertical-align: middle;\n",
              "    }\n",
              "\n",
              "    .dataframe tbody tr th {\n",
              "        vertical-align: top;\n",
              "    }\n",
              "\n",
              "    .dataframe thead th {\n",
              "        text-align: right;\n",
              "    }\n",
              "</style>\n",
              "<table border=\"1\" class=\"dataframe\">\n",
              "  <thead>\n",
              "    <tr style=\"text-align: right;\">\n",
              "      <th></th>\n",
              "      <th>Column1</th>\n",
              "      <th>Системный номер</th>\n",
              "      <th>Тип ВМД</th>\n",
              "      <th>Митниця</th>\n",
              "      <th>Відправник</th>\n",
              "      <th>Відправник 2</th>\n",
              "      <th>ОКПЕО Одержувач</th>\n",
              "      <th>Одержувач</th>\n",
              "      <th>Адресa Одержувача</th>\n",
              "      <th>ОКПЕО Декларанта</th>\n",
              "      <th>...</th>\n",
              "      <th>Митниця на кордоні</th>\n",
              "      <th>Довідка ВКМВ</th>\n",
              "      <th>Дaта</th>\n",
              "      <th>курс $</th>\n",
              "      <th>курс Евро</th>\n",
              "      <th>ЕДРОПОУ Контрактодержатель</th>\n",
              "      <th>Контрактодержатель</th>\n",
              "      <th>ИНН Брокера</th>\n",
              "      <th>Брокер</th>\n",
              "      <th>_1</th>\n",
              "    </tr>\n",
              "  </thead>\n",
              "  <tbody>\n",
              "    <tr>\n",
              "      <th>0</th>\n",
              "      <td>NaN</td>\n",
              "      <td>577210</td>\n",
              "      <td>ІМ/40/АА</td>\n",
              "      <td>209</td>\n",
              "      <td>TM MANUFACTURING INC 600 MARKLEY STREET 07064 ...</td>\n",
              "      <td>TM MANUFACTURING INC 1709 BELL ROAD FORT GIBSO...</td>\n",
              "      <td>3065716756</td>\n",
              "      <td>ФОП БАРСЬКИЙ АНАТОЛІЙ ЯКОВИЧВУЛ ЖУТІВСЬКА БУД ...</td>\n",
              "      <td></td>\n",
              "      <td>33951294</td>\n",
              "      <td>...</td>\n",
              "      <td></td>\n",
              "      <td></td>\n",
              "      <td></td>\n",
              "      <td>293</td>\n",
              "      <td></td>\n",
              "      <td>3065716756</td>\n",
              "      <td>ФОП БАРСЬКИЙ АНАТОЛІЙ ЯКОВИЧВУЛ ЖУТІВСЬКА БУД ...</td>\n",
              "      <td>3328515243</td>\n",
              "      <td>БАЛАКАН Ю А 380632255419</td>\n",
              "      <td>NaN</td>\n",
              "    </tr>\n",
              "    <tr>\n",
              "      <th>1</th>\n",
              "      <td>NaN</td>\n",
              "      <td>577211</td>\n",
              "      <td>ІМ/40/ДЕ</td>\n",
              "      <td>209</td>\n",
              "      <td>VITA FRUIT SP Z O O UL DYNOWSKA 60 37 200 PRZE...</td>\n",
              "      <td></td>\n",
              "      <td>43584554</td>\n",
              "      <td>ТОВ ФРУКТАТРЕЙД 79058 М ЛЬВІВ ВУЛ ХУТОРІВКА БУ...</td>\n",
              "      <td></td>\n",
              "      <td>43584554</td>\n",
              "      <td>...</td>\n",
              "      <td>UA209030</td>\n",
              "      <td></td>\n",
              "      <td></td>\n",
              "      <td>293</td>\n",
              "      <td></td>\n",
              "      <td>43584554</td>\n",
              "      <td>ТОВ ФРУКТАТРЕЙД 79058 М ЛЬВІВ ВУЛ ХУТОРІВКА БУ...</td>\n",
              "      <td>3008918852</td>\n",
              "      <td>МИРОШНИЧЕНКО А О 380674242596</td>\n",
              "      <td>NaN</td>\n",
              "    </tr>\n",
              "  </tbody>\n",
              "</table>\n",
              "<p>2 rows × 50 columns</p>\n",
              "</div>"
            ]
          },
          "metadata": {},
          "execution_count": 24
        }
      ]
    },
    {
      "cell_type": "code",
      "source": [
        "df = pd.DataFrame()\n",
        "for file_path in file_list[0:2]:\n",
        "    df_temp = pd.read_excel(file_path, sheet_name=0, \n",
        "                   dtype=str,\n",
        "                   names=[\"date\", \"custom_id\", \"doc_id\", \"row_id\", \"code\", \"discription\", \"custom\", \n",
        "                          \"edrpou_seller\", \"seller\", \"edrpou_ukr\", \"ukr_side\", \n",
        "                          \"country\", \"buyer\", \"buyer_2\", \"base\", \n",
        "                          \"transport_ukr\", \"transport_custom\", \"units\", \"amount\",\n",
        "                          \"weight\", \"doc_price_usd\", \"custom_price_usd\", \n",
        "                          \"doc_type\", \"regime\"],\n",
        "                   header=None,\n",
        "                   skiprows=1)\n",
        "    df = pd.concat([df, df_temp], axis=0)\n"
      ],
      "metadata": {
        "id": "hVLUqfD_Say1"
      },
      "execution_count": null,
      "outputs": []
    },
    {
      "cell_type": "code",
      "source": [
        "df.shape"
      ],
      "metadata": {
        "id": "Y9xtZHXPg9my",
        "colab": {
          "base_uri": "https://localhost:8080/"
        },
        "outputId": "23469fac-a0d1-4de9-d2b4-68503347d29f"
      },
      "execution_count": null,
      "outputs": [
        {
          "output_type": "execute_result",
          "data": {
            "text/plain": [
              "(359533, 24)"
            ]
          },
          "metadata": {},
          "execution_count": 123
        }
      ]
    },
    {
      "cell_type": "code",
      "source": [
        "#df[\"row_id\"] = df[\"row_id\"].astype(int)\n",
        "#df[\"base\"] = df[\"base\"].astype(int)\n",
        "\n",
        "df[\"amount\"] = df[\"amount\"].astype(float)\n",
        "df[\"weight\"] = df[\"weight\"].astype(float)\n",
        "df[\"doc_price_usd\"] = df[\"doc_price_usd\"].astype(float)\n",
        "df[\"custom_price_usd\"] = df[\"custom_price_usd\"].astype(float)"
      ],
      "metadata": {
        "id": "iYw3z6P_nkw4"
      },
      "execution_count": null,
      "outputs": []
    },
    {
      "cell_type": "code",
      "source": [
        "df[df[\"base\"] == ' 66690173, 68685940, 68789940']"
      ],
      "metadata": {
        "colab": {
          "base_uri": "https://localhost:8080/",
          "height": 99
        },
        "id": "g_iofC64dAjc",
        "outputId": "03625acf-5dd0-41dd-df11-b7e7cfe1d839"
      },
      "execution_count": null,
      "outputs": [
        {
          "output_type": "execute_result",
          "data": {
            "text/plain": [
              "Empty DataFrame\n",
              "Columns: [date, custom_id, doc_id, row_id, code, discription, custom, edrpou_seller, seller, edrpou_ukr, ukr_side, country, buyer, buyer_2, base, transport_ukr, transport_custom, units, amount, weight, doc_price_usd, custom_price_usd, doc_type, regime]\n",
              "Index: []\n",
              "\n",
              "[0 rows x 24 columns]"
            ],
            "text/html": [
              "<div>\n",
              "<style scoped>\n",
              "    .dataframe tbody tr th:only-of-type {\n",
              "        vertical-align: middle;\n",
              "    }\n",
              "\n",
              "    .dataframe tbody tr th {\n",
              "        vertical-align: top;\n",
              "    }\n",
              "\n",
              "    .dataframe thead th {\n",
              "        text-align: right;\n",
              "    }\n",
              "</style>\n",
              "<table border=\"1\" class=\"dataframe\">\n",
              "  <thead>\n",
              "    <tr style=\"text-align: right;\">\n",
              "      <th></th>\n",
              "      <th>date</th>\n",
              "      <th>custom_id</th>\n",
              "      <th>doc_id</th>\n",
              "      <th>row_id</th>\n",
              "      <th>code</th>\n",
              "      <th>discription</th>\n",
              "      <th>custom</th>\n",
              "      <th>edrpou_seller</th>\n",
              "      <th>seller</th>\n",
              "      <th>edrpou_ukr</th>\n",
              "      <th>...</th>\n",
              "      <th>base</th>\n",
              "      <th>transport_ukr</th>\n",
              "      <th>transport_custom</th>\n",
              "      <th>units</th>\n",
              "      <th>amount</th>\n",
              "      <th>weight</th>\n",
              "      <th>doc_price_usd</th>\n",
              "      <th>custom_price_usd</th>\n",
              "      <th>doc_type</th>\n",
              "      <th>regime</th>\n",
              "    </tr>\n",
              "  </thead>\n",
              "  <tbody>\n",
              "  </tbody>\n",
              "</table>\n",
              "<p>0 rows × 24 columns</p>\n",
              "</div>"
            ]
          },
          "metadata": {},
          "execution_count": 126
        }
      ]
    },
    {
      "cell_type": "code",
      "source": [
        "df[\"date\"] = df[\"date\"].str[0:10]\n",
        "df[\"date\"]"
      ],
      "metadata": {
        "colab": {
          "base_uri": "https://localhost:8080/"
        },
        "id": "OLgGJjN4MdcB",
        "outputId": "1fd9a79f-a13d-4648-f1d0-5dada4fd65bd"
      },
      "execution_count": null,
      "outputs": [
        {
          "output_type": "execute_result",
          "data": {
            "text/plain": [
              "0         2022-01-01\n",
              "1         2022-01-01\n",
              "2         2022-01-01\n",
              "3         2022-01-01\n",
              "4         2022-01-01\n",
              "             ...    \n",
              "184979    30.02.2022\n",
              "184980    30.02.2022\n",
              "184981    30.02.2022\n",
              "184982    30.02.2022\n",
              "184983    30.02.2022\n",
              "Name: date, Length: 359533, dtype: object"
            ]
          },
          "metadata": {},
          "execution_count": 127
        }
      ]
    },
    {
      "cell_type": "code",
      "source": [
        "#df.dtypes=[str, str, str, str, int, str, str, str, str, str, str, str, str, str, str, int, str, str, str, int, float, float, float, str, str]\n",
        "df.info()"
      ],
      "metadata": {
        "colab": {
          "base_uri": "https://localhost:8080/"
        },
        "id": "g2xKWGHznBqV",
        "outputId": "019702b2-a731-42d0-e7a8-b783c407700d"
      },
      "execution_count": null,
      "outputs": [
        {
          "output_type": "stream",
          "name": "stdout",
          "text": [
            "<class 'pandas.core.frame.DataFrame'>\n",
            "Int64Index: 359533 entries, 0 to 184983\n",
            "Data columns (total 24 columns):\n",
            " #   Column            Non-Null Count   Dtype  \n",
            "---  ------            --------------   -----  \n",
            " 0   date              359533 non-null  object \n",
            " 1   custom_id         359533 non-null  object \n",
            " 2   doc_id            359533 non-null  object \n",
            " 3   row_id            359533 non-null  object \n",
            " 4   code              359533 non-null  object \n",
            " 5   discription       359533 non-null  object \n",
            " 6   custom            359533 non-null  object \n",
            " 7   edrpou_seller     359533 non-null  object \n",
            " 8   seller            359533 non-null  object \n",
            " 9   edrpou_ukr        359533 non-null  object \n",
            " 10  ukr_side          359533 non-null  object \n",
            " 11  country           359533 non-null  object \n",
            " 12  buyer             347024 non-null  object \n",
            " 13  buyer_2           81268 non-null   object \n",
            " 14  base              359533 non-null  object \n",
            " 15  transport_ukr     359533 non-null  object \n",
            " 16  transport_custom  359533 non-null  object \n",
            " 17  units             359533 non-null  object \n",
            " 18  amount            359533 non-null  float64\n",
            " 19  weight            359533 non-null  float64\n",
            " 20  doc_price_usd     359533 non-null  float64\n",
            " 21  custom_price_usd  359533 non-null  float64\n",
            " 22  doc_type          359533 non-null  object \n",
            " 23  regime            359533 non-null  object \n",
            "dtypes: float64(4), object(20)\n",
            "memory usage: 68.6+ MB\n"
          ]
        }
      ]
    },
    {
      "cell_type": "code",
      "source": [
        "df[\"amount\"].nunique()\n",
        "df[\"amount\"].astype(float)"
      ],
      "metadata": {
        "colab": {
          "base_uri": "https://localhost:8080/"
        },
        "id": "WFg4bjG3JmvP",
        "outputId": "ca0d7e3f-63ca-4159-b511-f62d8fad3679"
      },
      "execution_count": null,
      "outputs": [
        {
          "output_type": "execute_result",
          "data": {
            "text/plain": [
              "0           0.0\n",
              "1           0.0\n",
              "2           0.0\n",
              "3         240.0\n",
              "4         120.0\n",
              "          ...  \n",
              "184979      0.0\n",
              "184980      0.0\n",
              "184981      0.0\n",
              "184982      0.0\n",
              "184983      0.0\n",
              "Name: amount, Length: 359533, dtype: float64"
            ]
          },
          "metadata": {},
          "execution_count": 129
        }
      ]
    },
    {
      "cell_type": "code",
      "source": [
        "df[\"base\"].unique()\n",
        "#df[df[\"base\"] == \"0\"]\n",
        "df[\"base\"].value_counts()"
      ],
      "metadata": {
        "colab": {
          "base_uri": "https://localhost:8080/"
        },
        "id": "N4t4dt1KokMn",
        "outputId": "47a5d248-b2c1-405b-ee0d-efb4a86659b0"
      },
      "execution_count": null,
      "outputs": [
        {
          "output_type": "execute_result",
          "data": {
            "text/plain": [
              "0                       43471\n",
              "CPT MD CHISINAU         25466\n",
              "FCA UA КИЇВ             10356\n",
              "FCA UA KYIV              5070\n",
              "FCA UA ОДЕСА             4987\n",
              "                        ...  \n",
              "CPT CH ARZIER               1\n",
              "CPT FI ESPOO FINLAND        1\n",
              "CPT AE ABU DHABI UAE        1\n",
              "DAP PL ГДИНЯ                1\n",
              "CPT AZ СТ СУМГАИТ           1\n",
              "Name: base, Length: 16868, dtype: int64"
            ]
          },
          "metadata": {},
          "execution_count": 130
        }
      ]
    },
    {
      "cell_type": "code",
      "source": [
        "df.head(1)"
      ],
      "metadata": {
        "colab": {
          "base_uri": "https://localhost:8080/",
          "height": 269
        },
        "id": "DNcL_KGZijWc",
        "outputId": "2ac1e287-3660-43c6-ed8e-93f8549f7e8c"
      },
      "execution_count": null,
      "outputs": [
        {
          "output_type": "execute_result",
          "data": {
            "text/plain": [
              "         date custom_id  doc_id row_id       code  \\\n",
              "0  2022-01-01  UA100020  546681      1  209101900   \n",
              "\n",
              "                                         discription            custom  \\\n",
              "0  СВИНЯЧИЙ ЖИР, ЯКИЙ ВІДОКРЕМЛЕНИЙ ВІД ПІСНОГО М...  КИЇВСЬКА МИТНИЦЯ   \n",
              "\n",
              "  edrpou_seller                                             seller edrpou_ukr  \\\n",
              "0      40853445  ТОВ ДИМНЕ М ЯСО ВІД ТАРАСА 01042 М КИЇВ ВУЛ ЧИ...   40853445   \n",
              "\n",
              "   ... base transport_ukr      transport_custom units amount weight  \\\n",
              "0  ...    0     НЕВІДОМИЙ  ВАНТАЖНИЙ АВТОМОБІЛЬ    КГ    0.0   3.75   \n",
              "\n",
              "  doc_price_usd custom_price_usd  doc_type    regime  \n",
              "0         33.31             30.0        АА  ЕХ 72 00  \n",
              "\n",
              "[1 rows x 24 columns]"
            ],
            "text/html": [
              "<div>\n",
              "<style scoped>\n",
              "    .dataframe tbody tr th:only-of-type {\n",
              "        vertical-align: middle;\n",
              "    }\n",
              "\n",
              "    .dataframe tbody tr th {\n",
              "        vertical-align: top;\n",
              "    }\n",
              "\n",
              "    .dataframe thead th {\n",
              "        text-align: right;\n",
              "    }\n",
              "</style>\n",
              "<table border=\"1\" class=\"dataframe\">\n",
              "  <thead>\n",
              "    <tr style=\"text-align: right;\">\n",
              "      <th></th>\n",
              "      <th>date</th>\n",
              "      <th>custom_id</th>\n",
              "      <th>doc_id</th>\n",
              "      <th>row_id</th>\n",
              "      <th>code</th>\n",
              "      <th>discription</th>\n",
              "      <th>custom</th>\n",
              "      <th>edrpou_seller</th>\n",
              "      <th>seller</th>\n",
              "      <th>edrpou_ukr</th>\n",
              "      <th>...</th>\n",
              "      <th>base</th>\n",
              "      <th>transport_ukr</th>\n",
              "      <th>transport_custom</th>\n",
              "      <th>units</th>\n",
              "      <th>amount</th>\n",
              "      <th>weight</th>\n",
              "      <th>doc_price_usd</th>\n",
              "      <th>custom_price_usd</th>\n",
              "      <th>doc_type</th>\n",
              "      <th>regime</th>\n",
              "    </tr>\n",
              "  </thead>\n",
              "  <tbody>\n",
              "    <tr>\n",
              "      <th>0</th>\n",
              "      <td>2022-01-01</td>\n",
              "      <td>UA100020</td>\n",
              "      <td>546681</td>\n",
              "      <td>1</td>\n",
              "      <td>209101900</td>\n",
              "      <td>СВИНЯЧИЙ ЖИР, ЯКИЙ ВІДОКРЕМЛЕНИЙ ВІД ПІСНОГО М...</td>\n",
              "      <td>КИЇВСЬКА МИТНИЦЯ</td>\n",
              "      <td>40853445</td>\n",
              "      <td>ТОВ ДИМНЕ М ЯСО ВІД ТАРАСА 01042 М КИЇВ ВУЛ ЧИ...</td>\n",
              "      <td>40853445</td>\n",
              "      <td>...</td>\n",
              "      <td>0</td>\n",
              "      <td>НЕВІДОМИЙ</td>\n",
              "      <td>ВАНТАЖНИЙ АВТОМОБІЛЬ</td>\n",
              "      <td>КГ</td>\n",
              "      <td>0.0</td>\n",
              "      <td>3.75</td>\n",
              "      <td>33.31</td>\n",
              "      <td>30.0</td>\n",
              "      <td>АА</td>\n",
              "      <td>ЕХ 72 00</td>\n",
              "    </tr>\n",
              "  </tbody>\n",
              "</table>\n",
              "<p>1 rows × 24 columns</p>\n",
              "</div>"
            ]
          },
          "metadata": {},
          "execution_count": 131
        }
      ]
    },
    {
      "cell_type": "code",
      "source": [
        "#df.iloc[0]"
      ],
      "metadata": {
        "id": "f-U-ozq4iRX8"
      },
      "execution_count": null,
      "outputs": []
    },
    {
      "cell_type": "code",
      "source": [
        "df.shape"
      ],
      "metadata": {
        "colab": {
          "base_uri": "https://localhost:8080/"
        },
        "id": "jHeS-YC1hfk0",
        "outputId": "692c1f72-47d2-4398-d2a8-d060c4fec90f"
      },
      "execution_count": null,
      "outputs": [
        {
          "output_type": "execute_result",
          "data": {
            "text/plain": [
              "(359533, 24)"
            ]
          },
          "metadata": {},
          "execution_count": 133
        }
      ]
    },
    {
      "cell_type": "code",
      "source": [
        "code_path = \"D:/projects/export_import/data/codes/euro_codes.csv\""
      ],
      "metadata": {
        "id": "9EVJIjM4nHBr"
      },
      "execution_count": null,
      "outputs": []
    },
    {
      "cell_type": "code",
      "source": [
        "df_codes = pd.read_csv(code_path, dtype=str)\n",
        "df_codes"
      ],
      "metadata": {
        "colab": {
          "base_uri": "https://localhost:8080/",
          "height": 424
        },
        "id": "6qZH35eJvCps",
        "outputId": "4a1f80e1-a5e4-4e93-fc8b-1a37e54204a3"
      },
      "execution_count": null,
      "outputs": [
        {
          "output_type": "execute_result",
          "data": {
            "text/plain": [
              "    codes\n",
              "0    2401\n",
              "1    2402\n",
              "2    2403\n",
              "3    0901\n",
              "4    0902\n",
              "..    ...\n",
              "99   8215\n",
              "100  3105\n",
              "101  3405\n",
              "102  9503\n",
              "103  9504\n",
              "\n",
              "[104 rows x 1 columns]"
            ],
            "text/html": [
              "<div>\n",
              "<style scoped>\n",
              "    .dataframe tbody tr th:only-of-type {\n",
              "        vertical-align: middle;\n",
              "    }\n",
              "\n",
              "    .dataframe tbody tr th {\n",
              "        vertical-align: top;\n",
              "    }\n",
              "\n",
              "    .dataframe thead th {\n",
              "        text-align: right;\n",
              "    }\n",
              "</style>\n",
              "<table border=\"1\" class=\"dataframe\">\n",
              "  <thead>\n",
              "    <tr style=\"text-align: right;\">\n",
              "      <th></th>\n",
              "      <th>codes</th>\n",
              "    </tr>\n",
              "  </thead>\n",
              "  <tbody>\n",
              "    <tr>\n",
              "      <th>0</th>\n",
              "      <td>2401</td>\n",
              "    </tr>\n",
              "    <tr>\n",
              "      <th>1</th>\n",
              "      <td>2402</td>\n",
              "    </tr>\n",
              "    <tr>\n",
              "      <th>2</th>\n",
              "      <td>2403</td>\n",
              "    </tr>\n",
              "    <tr>\n",
              "      <th>3</th>\n",
              "      <td>0901</td>\n",
              "    </tr>\n",
              "    <tr>\n",
              "      <th>4</th>\n",
              "      <td>0902</td>\n",
              "    </tr>\n",
              "    <tr>\n",
              "      <th>...</th>\n",
              "      <td>...</td>\n",
              "    </tr>\n",
              "    <tr>\n",
              "      <th>99</th>\n",
              "      <td>8215</td>\n",
              "    </tr>\n",
              "    <tr>\n",
              "      <th>100</th>\n",
              "      <td>3105</td>\n",
              "    </tr>\n",
              "    <tr>\n",
              "      <th>101</th>\n",
              "      <td>3405</td>\n",
              "    </tr>\n",
              "    <tr>\n",
              "      <th>102</th>\n",
              "      <td>9503</td>\n",
              "    </tr>\n",
              "    <tr>\n",
              "      <th>103</th>\n",
              "      <td>9504</td>\n",
              "    </tr>\n",
              "  </tbody>\n",
              "</table>\n",
              "<p>104 rows × 1 columns</p>\n",
              "</div>"
            ]
          },
          "metadata": {},
          "execution_count": 135
        }
      ]
    },
    {
      "cell_type": "code",
      "source": [
        "df[\"codes\"] = df[\"code\"]\n",
        "#df.head(2)"
      ],
      "metadata": {
        "id": "GBwWyvU1vQqS"
      },
      "execution_count": null,
      "outputs": []
    },
    {
      "cell_type": "code",
      "source": [
        "codes = df.iloc[:,4].unique()\n",
        "codes"
      ],
      "metadata": {
        "colab": {
          "base_uri": "https://localhost:8080/"
        },
        "id": "HSzjftf_wJU3",
        "outputId": "a05b264f-e962-4a05-d594-4669acdf8616"
      },
      "execution_count": null,
      "outputs": [
        {
          "output_type": "execute_result",
          "data": {
            "text/plain": [
              "array(['209101900', '209101100', '2201101100', ..., '7304599990',\n",
              "       '3823130000', '2853901000'], dtype=object)"
            ]
          },
          "metadata": {},
          "execution_count": 137
        }
      ]
    },
    {
      "cell_type": "code",
      "source": [
        "# Перебираємо коди із списку обраних і знаходимо відповідності в базі кодів\n",
        "any([codes[0].startswith(c) for c in df_codes.codes])"
      ],
      "metadata": {
        "colab": {
          "base_uri": "https://localhost:8080/"
        },
        "id": "LyragI7yxsKw",
        "outputId": "f99a5e1b-289b-4ca1-8eed-3b33c60ce546"
      },
      "execution_count": null,
      "outputs": [
        {
          "output_type": "execute_result",
          "data": {
            "text/plain": [
              "False"
            ]
          },
          "metadata": {},
          "execution_count": 138
        }
      ]
    },
    {
      "cell_type": "code",
      "source": [
        "df[\"use_code\"] = df.codes.map(lambda x: any([x.startswith(c) for c in df_codes.codes]))\n",
        "#df[df[\"use_code\"]]"
      ],
      "metadata": {
        "id": "wByUS58EycxV"
      },
      "execution_count": null,
      "outputs": []
    },
    {
      "cell_type": "code",
      "source": [
        "# Загружаємо дані про курси валют\n",
        "data_path + \"Kurs_dovid.csv\""
      ],
      "metadata": {
        "colab": {
          "base_uri": "https://localhost:8080/"
        },
        "id": "RuwBh816LTDP",
        "outputId": "f6011f27-bea4-44dd-9e93-387a3e77a732"
      },
      "execution_count": null,
      "outputs": [
        {
          "output_type": "execute_result",
          "data": {
            "text/plain": [
              "'D:/projects/export_import/data/Kurs_dovid.csv'"
            ]
          },
          "metadata": {},
          "execution_count": 140
        }
      ]
    },
    {
      "cell_type": "code",
      "source": [
        "df_rates = pd.read_csv(data_path + \"Kurs_dovid.csv\")\n",
        "df_rates"
      ],
      "metadata": {
        "id": "VLxYQ6J-0LAN",
        "colab": {
          "base_uri": "https://localhost:8080/",
          "height": 424
        },
        "outputId": "15d77c9c-4661-4cca-e6fc-fc7d04f60a9b"
      },
      "execution_count": null,
      "outputs": [
        {
          "output_type": "execute_result",
          "data": {
            "text/plain": [
              "           date     rate\n",
              "0    01.01.2022  27.2984\n",
              "1    02.01.2022  27.2984\n",
              "2    03.01.2022  27.2984\n",
              "3    04.01.2022  27.2984\n",
              "4    05.01.2022  27.4507\n",
              "..          ...      ...\n",
              "360  27.12.2022  36.5686\n",
              "361  28.12.2022  36.5686\n",
              "362  29.12.2022  36.5686\n",
              "363  30.12.2022  36.5686\n",
              "364  31.12.2022  36.5686\n",
              "\n",
              "[365 rows x 2 columns]"
            ],
            "text/html": [
              "<div>\n",
              "<style scoped>\n",
              "    .dataframe tbody tr th:only-of-type {\n",
              "        vertical-align: middle;\n",
              "    }\n",
              "\n",
              "    .dataframe tbody tr th {\n",
              "        vertical-align: top;\n",
              "    }\n",
              "\n",
              "    .dataframe thead th {\n",
              "        text-align: right;\n",
              "    }\n",
              "</style>\n",
              "<table border=\"1\" class=\"dataframe\">\n",
              "  <thead>\n",
              "    <tr style=\"text-align: right;\">\n",
              "      <th></th>\n",
              "      <th>date</th>\n",
              "      <th>rate</th>\n",
              "    </tr>\n",
              "  </thead>\n",
              "  <tbody>\n",
              "    <tr>\n",
              "      <th>0</th>\n",
              "      <td>01.01.2022</td>\n",
              "      <td>27.2984</td>\n",
              "    </tr>\n",
              "    <tr>\n",
              "      <th>1</th>\n",
              "      <td>02.01.2022</td>\n",
              "      <td>27.2984</td>\n",
              "    </tr>\n",
              "    <tr>\n",
              "      <th>2</th>\n",
              "      <td>03.01.2022</td>\n",
              "      <td>27.2984</td>\n",
              "    </tr>\n",
              "    <tr>\n",
              "      <th>3</th>\n",
              "      <td>04.01.2022</td>\n",
              "      <td>27.2984</td>\n",
              "    </tr>\n",
              "    <tr>\n",
              "      <th>4</th>\n",
              "      <td>05.01.2022</td>\n",
              "      <td>27.4507</td>\n",
              "    </tr>\n",
              "    <tr>\n",
              "      <th>...</th>\n",
              "      <td>...</td>\n",
              "      <td>...</td>\n",
              "    </tr>\n",
              "    <tr>\n",
              "      <th>360</th>\n",
              "      <td>27.12.2022</td>\n",
              "      <td>36.5686</td>\n",
              "    </tr>\n",
              "    <tr>\n",
              "      <th>361</th>\n",
              "      <td>28.12.2022</td>\n",
              "      <td>36.5686</td>\n",
              "    </tr>\n",
              "    <tr>\n",
              "      <th>362</th>\n",
              "      <td>29.12.2022</td>\n",
              "      <td>36.5686</td>\n",
              "    </tr>\n",
              "    <tr>\n",
              "      <th>363</th>\n",
              "      <td>30.12.2022</td>\n",
              "      <td>36.5686</td>\n",
              "    </tr>\n",
              "    <tr>\n",
              "      <th>364</th>\n",
              "      <td>31.12.2022</td>\n",
              "      <td>36.5686</td>\n",
              "    </tr>\n",
              "  </tbody>\n",
              "</table>\n",
              "<p>365 rows × 2 columns</p>\n",
              "</div>"
            ]
          },
          "metadata": {},
          "execution_count": 141
        }
      ]
    },
    {
      "cell_type": "code",
      "source": [
        "# Конвертуємо дату в таблиці курсів валют у формат відповідний до основного дата фрейму\n",
        "df_rates[\"date\"] = df_rates[\"date\"].map(lambda x: datetime.strptime(x, \"%d.%m.%Y\").strftime(\"%Y-%m-%d\"))\n",
        "df_rates.head()"
      ],
      "metadata": {
        "colab": {
          "base_uri": "https://localhost:8080/",
          "height": 206
        },
        "id": "NAPMb_6dO8nM",
        "outputId": "e29edd42-1b2d-4c6c-8352-712095dfe027"
      },
      "execution_count": null,
      "outputs": [
        {
          "output_type": "execute_result",
          "data": {
            "text/plain": [
              "         date     rate\n",
              "0  2022-01-01  27.2984\n",
              "1  2022-01-02  27.2984\n",
              "2  2022-01-03  27.2984\n",
              "3  2022-01-04  27.2984\n",
              "4  2022-01-05  27.4507"
            ],
            "text/html": [
              "<div>\n",
              "<style scoped>\n",
              "    .dataframe tbody tr th:only-of-type {\n",
              "        vertical-align: middle;\n",
              "    }\n",
              "\n",
              "    .dataframe tbody tr th {\n",
              "        vertical-align: top;\n",
              "    }\n",
              "\n",
              "    .dataframe thead th {\n",
              "        text-align: right;\n",
              "    }\n",
              "</style>\n",
              "<table border=\"1\" class=\"dataframe\">\n",
              "  <thead>\n",
              "    <tr style=\"text-align: right;\">\n",
              "      <th></th>\n",
              "      <th>date</th>\n",
              "      <th>rate</th>\n",
              "    </tr>\n",
              "  </thead>\n",
              "  <tbody>\n",
              "    <tr>\n",
              "      <th>0</th>\n",
              "      <td>2022-01-01</td>\n",
              "      <td>27.2984</td>\n",
              "    </tr>\n",
              "    <tr>\n",
              "      <th>1</th>\n",
              "      <td>2022-01-02</td>\n",
              "      <td>27.2984</td>\n",
              "    </tr>\n",
              "    <tr>\n",
              "      <th>2</th>\n",
              "      <td>2022-01-03</td>\n",
              "      <td>27.2984</td>\n",
              "    </tr>\n",
              "    <tr>\n",
              "      <th>3</th>\n",
              "      <td>2022-01-04</td>\n",
              "      <td>27.2984</td>\n",
              "    </tr>\n",
              "    <tr>\n",
              "      <th>4</th>\n",
              "      <td>2022-01-05</td>\n",
              "      <td>27.4507</td>\n",
              "    </tr>\n",
              "  </tbody>\n",
              "</table>\n",
              "</div>"
            ]
          },
          "metadata": {},
          "execution_count": 142
        }
      ]
    },
    {
      "cell_type": "code",
      "source": [
        "# Об\"єднуємо дата фрейми\n",
        "df = pd.merge(df, df_rates, on=\"date\", how=\"left\")\n",
        "#df.head(2)"
      ],
      "metadata": {
        "id": "iCUC1Gq6MRQc"
      },
      "execution_count": null,
      "outputs": []
    },
    {
      "cell_type": "code",
      "source": [
        "# Конвертуємо в грн по курсу НБУ\n",
        "df[\"custom_price_uah\"] = round(df[\"custom_price_usd\"]*df[\"rate\"], 2)\n",
        "df[\"doc_price_uah\"] = round(df[\"doc_price_usd\"]*df[\"rate\"], 2)"
      ],
      "metadata": {
        "id": "ijCTc0JgQxRe"
      },
      "execution_count": null,
      "outputs": []
    },
    {
      "cell_type": "code",
      "source": [
        "#df.head(2)"
      ],
      "metadata": {
        "id": "oSn4ZDlKRT5h"
      },
      "execution_count": null,
      "outputs": []
    },
    {
      "cell_type": "code",
      "source": [
        "df.sample(n=100).to_csv(path_or_buf=data_path + \"export_sample.csv\", header=True, sep=\",\", index=False)"
      ],
      "metadata": {
        "id": "yWEAGjWDiivA"
      },
      "execution_count": null,
      "outputs": []
    },
    {
      "cell_type": "markdown",
      "source": [
        "# Import"
      ],
      "metadata": {
        "id": "TZ9ErgY3WyZ0"
      }
    },
    {
      "cell_type": "code",
      "source": [
        "#folder = \"import/\"\n",
        "file_list = glob.glob(data_path + folder + \"/*/*\")\n",
        "file_list"
      ],
      "metadata": {
        "colab": {
          "base_uri": "https://localhost:8080/"
        },
        "id": "UTdc9_NcXeVP",
        "outputId": "7ac46ad3-2ef6-45dc-bfb7-38f7d3ef093f"
      },
      "execution_count": null,
      "outputs": [
        {
          "output_type": "execute_result",
          "data": {
            "text/plain": [
              "['D:/projects/export_import/data/import\\\\2022\\\\import 01-2022.xlsb',\n",
              " 'D:/projects/export_import/data/import\\\\2022\\\\import 02-2022.xlsx',\n",
              " 'D:/projects/export_import/data/import\\\\2022\\\\import 03-2022.xlsx',\n",
              " 'D:/projects/export_import/data/import\\\\2022\\\\import 04-2022.xlsx',\n",
              " 'D:/projects/export_import/data/import\\\\2022\\\\import 05-2022.xlsx',\n",
              " 'D:/projects/export_import/data/import\\\\2022\\\\import 06-2022.xlsb',\n",
              " 'D:/projects/export_import/data/import\\\\2022\\\\import 07-2022.xlsb',\n",
              " 'D:/projects/export_import/data/import\\\\2022\\\\import 08-2022.xlsb',\n",
              " 'D:/projects/export_import/data/import\\\\2022\\\\import 09-2022.xlsx',\n",
              " 'D:/projects/export_import/data/import\\\\2022\\\\import 10-2022.xlsx',\n",
              " 'D:/projects/export_import/data/import\\\\2022\\\\import 11-2022.xlsx',\n",
              " 'D:/projects/export_import/data/import\\\\2022\\\\~$import 01-2022.xlsb']"
            ]
          },
          "metadata": {},
          "execution_count": 104
        }
      ]
    },
    {
      "cell_type": "code",
      "source": [
        "df_i = pd.DataFrame()\n",
        "for file_path in file_list:\n",
        "    df_temp = pd.read_excel(file_path, sheet_name=0, \n",
        "                   dtype=str,\n",
        "                   names=[\"date\", \"custom_id\", \"doc_id\", \"row_id\", \"code\", \"discription\", \"custom\", \n",
        "                          \"edrpou_seller\", \"seller\", \"edrpou_ukr\", \"ukr_side\", \n",
        "                          \"country\", \"buyer\", \"buyer_2\", \"base\", \n",
        "                          \"transport_ukr\", \"transport_custom\", \"units\", \"amount\",\n",
        "                          \"weight\", \"doc_price_usd\", \"custom_price_usd\", \n",
        "                          \"doc_type\", \"regime\"],\n",
        "                   header=None,\n",
        "                   skiprows=1)\n",
        "    df_i = pd.concat([df_i, df_temp], axis=0)"
      ],
      "metadata": {
        "id": "kA4oAMMCXBk5"
      },
      "execution_count": null,
      "outputs": []
    }
  ]
}