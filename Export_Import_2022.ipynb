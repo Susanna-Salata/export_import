{
  "nbformat": 4,
  "nbformat_minor": 0,
  "metadata": {
    "colab": {
      "provenance": [],
      "authorship_tag": "ABX9TyNe5mkDj1wCW9SFDlb3CZhM",
      "include_colab_link": true
    },
    "kernelspec": {
      "name": "python3",
      "display_name": "Python 3"
    },
    "language_info": {
      "name": "python"
    }
  },
  "cells": [
    {
      "cell_type": "markdown",
      "metadata": {
        "id": "view-in-github",
        "colab_type": "text"
      },
      "source": [
        "<a href=\"https://colab.research.google.com/github/Susanna-Salata/export_import/blob/main/Export_Import_2022.ipynb\" target=\"_parent\"><img src=\"https://colab.research.google.com/assets/colab-badge.svg\" alt=\"Open In Colab\"/></a>"
      ]
    },
    {
      "cell_type": "code",
      "source": [
        "!pip install pandas openpyxl"
      ],
      "metadata": {
        "colab": {
          "base_uri": "https://localhost:8080/"
        },
        "id": "5i1PiJntlywx",
        "outputId": "d6691384-7025-41dc-a313-caeee7c97e4e"
      },
      "execution_count": 5,
      "outputs": [
        {
          "output_type": "stream",
          "name": "stdout",
          "text": [
            "Requirement already satisfied: pandas in c:\\users\\susan\\appdata\\local\\programs\\python\\python39\\lib\\site-packages (1.4.3)\n",
            "Collecting openpyxl\n",
            "  Downloading openpyxl-3.0.10-py2.py3-none-any.whl (242 kB)\n",
            "     -------------------------------------- 242.1/242.1 KB 2.1 MB/s eta 0:00:00\n",
            "Requirement already satisfied: numpy>=1.18.5 in c:\\users\\susan\\appdata\\local\\programs\\python\\python39\\lib\\site-packages (from pandas) (1.23.1)\n",
            "Requirement already satisfied: python-dateutil>=2.8.1 in c:\\users\\susan\\appdata\\local\\programs\\python\\python39\\lib\\site-packages (from pandas) (2.8.2)\n",
            "Requirement already satisfied: pytz>=2020.1 in c:\\users\\susan\\appdata\\local\\programs\\python\\python39\\lib\\site-packages (from pandas) (2022.1)\n",
            "Collecting et-xmlfile\n",
            "  Downloading et_xmlfile-1.1.0-py3-none-any.whl (4.7 kB)\n",
            "Requirement already satisfied: six>=1.5 in c:\\users\\susan\\appdata\\local\\programs\\python\\python39\\lib\\site-packages (from python-dateutil>=2.8.1->pandas) (1.16.0)\n",
            "Installing collected packages: et-xmlfile, openpyxl\n",
            "Successfully installed et-xmlfile-1.1.0 openpyxl-3.0.10\n"
          ]
        },
        {
          "output_type": "stream",
          "name": "stderr",
          "text": [
            "WARNING: You are using pip version 22.0.4; however, version 22.3.1 is available.\n",
            "You should consider upgrading via the 'C:\\Users\\susan\\AppData\\Local\\Programs\\Python\\Python39\\python.exe -m pip install --upgrade pip' command.\n"
          ]
        }
      ]
    },
    {
      "cell_type": "code",
      "execution_count": 11,
      "metadata": {
        "id": "JH8h9-0AZ6VU"
      },
      "outputs": [],
      "source": [
        "import pandas as pd\n",
        "import numpy as np\n",
        "import glob"
      ]
    },
    {
      "cell_type": "code",
      "source": [
        "data_path = \"D:/projects/export_import/data/\"\n",
        "folder = \"export/\"\n"
      ],
      "metadata": {
        "id": "YZHlMJ7AgxmJ"
      },
      "execution_count": 13,
      "outputs": []
    },
    {
      "cell_type": "code",
      "source": [
        "file_list = glob.glob(data_path + folder + \"/*/*\")\n",
        "file_list"
      ],
      "metadata": {
        "colab": {
          "base_uri": "https://localhost:8080/"
        },
        "id": "mdWFFsV5jqIx",
        "outputId": "d3a19f6b-8a4c-493e-822e-488056b26193"
      },
      "execution_count": 17,
      "outputs": [
        {
          "output_type": "execute_result",
          "data": {
            "text/plain": [
              "['D:/projects/export_import/data/export\\\\2022\\\\export-01-2022.xlsx',\n",
              " 'D:/projects/export_import/data/export\\\\2022\\\\export-02-2022.xlsx',\n",
              " 'D:/projects/export_import/data/export\\\\2022\\\\export-03-2022.xlsx',\n",
              " 'D:/projects/export_import/data/export\\\\2022\\\\export-04-2022.xlsx',\n",
              " 'D:/projects/export_import/data/export\\\\2022\\\\export-05-2022.xlsx',\n",
              " 'D:/projects/export_import/data/export\\\\2022\\\\export-06-2022.xlsx',\n",
              " 'D:/projects/export_import/data/export\\\\2022\\\\export-07-2022.xlsx',\n",
              " 'D:/projects/export_import/data/export\\\\2022\\\\export-08-2022.xlsb',\n",
              " 'D:/projects/export_import/data/export\\\\2022\\\\export-09-2022.xlsx',\n",
              " 'D:/projects/export_import/data/export\\\\2022\\\\export-10-2022.xlsx',\n",
              " 'D:/projects/export_import/data/export\\\\2022\\\\export-11-2022.xlsx']"
            ]
          },
          "metadata": {},
          "execution_count": 17
        }
      ]
    },
    {
      "cell_type": "code",
      "source": [
        "file_path = file_list[0]\n",
        "df = pd.read_excel(file_path, sheet_name=0, dtype=str)"
      ],
      "metadata": {
        "id": "Y9xtZHXPg9my"
      },
      "execution_count": 35,
      "outputs": []
    },
    {
      "cell_type": "code",
      "source": [
        "df.shape"
      ],
      "metadata": {
        "colab": {
          "base_uri": "https://localhost:8080/"
        },
        "id": "jHeS-YC1hfk0",
        "outputId": "8e7ff48a-4d11-4843-da26-c32677c003c3"
      },
      "execution_count": 20,
      "outputs": [
        {
          "output_type": "execute_result",
          "data": {
            "text/plain": [
              "(174549, 24)"
            ]
          },
          "metadata": {},
          "execution_count": 20
        }
      ]
    },
    {
      "cell_type": "code",
      "source": [
        "code_path = \"D:/projects/export_import/data/codes/euro_codes.csv\""
      ],
      "metadata": {
        "id": "9EVJIjM4nHBr"
      },
      "execution_count": 21,
      "outputs": []
    },
    {
      "cell_type": "code",
      "source": [
        "df_codes = pd.read_csv(code_path, dtype=str)\n",
        "df_codes"
      ],
      "metadata": {
        "colab": {
          "base_uri": "https://localhost:8080/",
          "height": 424
        },
        "id": "6qZH35eJvCps",
        "outputId": "25bf1cbe-5614-44b3-9d14-efac99daf6ec"
      },
      "execution_count": 24,
      "outputs": [
        {
          "output_type": "execute_result",
          "data": {
            "text/plain": [
              "    codes\n",
              "0    2401\n",
              "1    2402\n",
              "2    2403\n",
              "3    0901\n",
              "4    0902\n",
              "..    ...\n",
              "99   8215\n",
              "100  3105\n",
              "101  3405\n",
              "102  9503\n",
              "103  9504\n",
              "\n",
              "[104 rows x 1 columns]"
            ],
            "text/html": [
              "<div>\n",
              "<style scoped>\n",
              "    .dataframe tbody tr th:only-of-type {\n",
              "        vertical-align: middle;\n",
              "    }\n",
              "\n",
              "    .dataframe tbody tr th {\n",
              "        vertical-align: top;\n",
              "    }\n",
              "\n",
              "    .dataframe thead th {\n",
              "        text-align: right;\n",
              "    }\n",
              "</style>\n",
              "<table border=\"1\" class=\"dataframe\">\n",
              "  <thead>\n",
              "    <tr style=\"text-align: right;\">\n",
              "      <th></th>\n",
              "      <th>codes</th>\n",
              "    </tr>\n",
              "  </thead>\n",
              "  <tbody>\n",
              "    <tr>\n",
              "      <th>0</th>\n",
              "      <td>2401</td>\n",
              "    </tr>\n",
              "    <tr>\n",
              "      <th>1</th>\n",
              "      <td>2402</td>\n",
              "    </tr>\n",
              "    <tr>\n",
              "      <th>2</th>\n",
              "      <td>2403</td>\n",
              "    </tr>\n",
              "    <tr>\n",
              "      <th>3</th>\n",
              "      <td>0901</td>\n",
              "    </tr>\n",
              "    <tr>\n",
              "      <th>4</th>\n",
              "      <td>0902</td>\n",
              "    </tr>\n",
              "    <tr>\n",
              "      <th>...</th>\n",
              "      <td>...</td>\n",
              "    </tr>\n",
              "    <tr>\n",
              "      <th>99</th>\n",
              "      <td>8215</td>\n",
              "    </tr>\n",
              "    <tr>\n",
              "      <th>100</th>\n",
              "      <td>3105</td>\n",
              "    </tr>\n",
              "    <tr>\n",
              "      <th>101</th>\n",
              "      <td>3405</td>\n",
              "    </tr>\n",
              "    <tr>\n",
              "      <th>102</th>\n",
              "      <td>9503</td>\n",
              "    </tr>\n",
              "    <tr>\n",
              "      <th>103</th>\n",
              "      <td>9504</td>\n",
              "    </tr>\n",
              "  </tbody>\n",
              "</table>\n",
              "<p>104 rows × 1 columns</p>\n",
              "</div>"
            ]
          },
          "metadata": {},
          "execution_count": 24
        }
      ]
    },
    {
      "cell_type": "code",
      "source": [
        "df[\"codes\"] = df[\"Код товара\"]\n",
        "#df.head(2)"
      ],
      "metadata": {
        "id": "GBwWyvU1vQqS"
      },
      "execution_count": 57,
      "outputs": []
    },
    {
      "cell_type": "code",
      "source": [
        "codes = df.iloc[:,4].unique()\n",
        "codes"
      ],
      "metadata": {
        "colab": {
          "base_uri": "https://localhost:8080/"
        },
        "id": "HSzjftf_wJU3",
        "outputId": "9f0a74ad-f4de-454c-9746-b0f89df518c1"
      },
      "execution_count": 43,
      "outputs": [
        {
          "output_type": "execute_result",
          "data": {
            "text/plain": [
              "array(['209101900', '209101100', '2201101100', ..., '805102800',\n",
              "       '8414592591', '8453900000'], dtype=object)"
            ]
          },
          "metadata": {},
          "execution_count": 43
        }
      ]
    },
    {
      "cell_type": "code",
      "source": [
        "df.info()"
      ],
      "metadata": {
        "colab": {
          "base_uri": "https://localhost:8080/"
        },
        "id": "wY-3YRI7v6TH",
        "outputId": "1186a72a-5d31-4ac6-8b03-f8fb3e701509"
      },
      "execution_count": 44,
      "outputs": [
        {
          "output_type": "stream",
          "name": "stdout",
          "text": [
            "<class 'pandas.core.frame.DataFrame'>\n",
            "RangeIndex: 174549 entries, 0 to 174548\n",
            "Data columns (total 24 columns):\n",
            " #   Column                                              Non-Null Count   Dtype \n",
            "---  ------                                              --------------   ----- \n",
            " 0   Дата                                                174549 non-null  object\n",
            " 1   Код тамож. органа                                   174549 non-null  object\n",
            " 2   № ГТД                                               174549 non-null  object\n",
            " 3   № товара                                            174549 non-null  object\n",
            " 4   Код товара                                          174549 non-null  object\n",
            " 5   Описание товара по УКТ ЗЕД                          174549 non-null  object\n",
            " 6   Таможня оформления                                  174549 non-null  object\n",
            " 7   Код ЕДРОПУ отправителя                              174549 non-null  object\n",
            " 8   Название отправителя и адрес                        174549 non-null  object\n",
            " 9   Код ЕДРПОУ укр. Контракто-держателя                 174549 non-null  object\n",
            " 10  Название и адрес укр. контрактодержателя            174549 non-null  object\n",
            " 11  Страна назначения                                   174549 non-null  object\n",
            " 12  Иностр. получатель/ контрактодержатель              168179 non-null  object\n",
            " 13  Иностран. контрактодежатель (обратная сторона ГТД)  40232 non-null   object\n",
            " 14  Базис поставки                                      174549 non-null  object\n",
            " 15  Транспорт на границе                                174549 non-null  object\n",
            " 16  Транспорт в Украине                                 174549 non-null  object\n",
            " 17  Ед.измер.                                           174549 non-null  object\n",
            " 18  Кол-во в доп.ед.                                    174549 non-null  object\n",
            " 19  Вес нетто, кг                                       174549 non-null  object\n",
            " 20  Фактурная стоимость, дол.                           174549 non-null  object\n",
            " 21  Таможенная стоимость, дол.                          174549 non-null  object\n",
            " 22  Тип декларации                                      174549 non-null  object\n",
            " 23  Режим                                               174549 non-null  object\n",
            "dtypes: object(24)\n",
            "memory usage: 32.0+ MB\n"
          ]
        }
      ]
    },
    {
      "cell_type": "code",
      "source": [
        "len(codes)"
      ],
      "metadata": {
        "colab": {
          "base_uri": "https://localhost:8080/"
        },
        "id": "I72FqAgpwqmO",
        "outputId": "b3ffb2d3-eaaa-4468-ce78-a4a63b37b192"
      },
      "execution_count": 45,
      "outputs": [
        {
          "output_type": "execute_result",
          "data": {
            "text/plain": [
              "5521"
            ]
          },
          "metadata": {},
          "execution_count": 45
        }
      ]
    },
    {
      "cell_type": "code",
      "source": [
        "codes[0].startswith(\"2401\")"
      ],
      "metadata": {
        "colab": {
          "base_uri": "https://localhost:8080/"
        },
        "id": "g9arf3_wxRSM",
        "outputId": "ce283809-2f33-45d0-fcda-0f02061f3eda"
      },
      "execution_count": 46,
      "outputs": [
        {
          "output_type": "execute_result",
          "data": {
            "text/plain": [
              "False"
            ]
          },
          "metadata": {},
          "execution_count": 46
        }
      ]
    },
    {
      "cell_type": "code",
      "source": [
        "# Перебираємо коди із списку обраних і знаходимо відповідності в базі кодів\n",
        "any([codes[0].startswith(c) for c in df_codes.codes])"
      ],
      "metadata": {
        "colab": {
          "base_uri": "https://localhost:8080/"
        },
        "id": "LyragI7yxsKw",
        "outputId": "f30d2b5b-59d7-438d-8aa1-0cf5c96549a7"
      },
      "execution_count": 47,
      "outputs": [
        {
          "output_type": "execute_result",
          "data": {
            "text/plain": [
              "False"
            ]
          },
          "metadata": {},
          "execution_count": 47
        }
      ]
    },
    {
      "cell_type": "code",
      "source": [
        "df[\"use_code\"] = df.codes.map(lambda x: any([x.startswith(c) for c in df_codes.codes]))\n",
        "#df[df[\"use_code\"]]"
      ],
      "metadata": {
        "id": "wByUS58EycxV"
      },
      "execution_count": 56,
      "outputs": []
    },
    {
      "cell_type": "code",
      "source": [
        "df[\"use_code\"] = df_codes.codes.map(lambda x: any([x.startswith(c) for c in df_codes.codes]))"
      ],
      "metadata": {
        "colab": {
          "base_uri": "https://localhost:8080/",
          "height": 424
        },
        "id": "HVfCbxKh0JaG",
        "outputId": "d8d7c467-df62-4b29-e19f-062ec557b42f"
      },
      "execution_count": 49,
      "outputs": [
        {
          "output_type": "execute_result",
          "data": {
            "text/plain": [
              "    codes   use\n",
              "0    2401  True\n",
              "1    2402  True\n",
              "2    2403  True\n",
              "3    0901  True\n",
              "4    0902  True\n",
              "..    ...   ...\n",
              "99   8215  True\n",
              "100  3105  True\n",
              "101  3405  True\n",
              "102  9503  True\n",
              "103  9504  True\n",
              "\n",
              "[104 rows x 2 columns]"
            ],
            "text/html": [
              "<div>\n",
              "<style scoped>\n",
              "    .dataframe tbody tr th:only-of-type {\n",
              "        vertical-align: middle;\n",
              "    }\n",
              "\n",
              "    .dataframe tbody tr th {\n",
              "        vertical-align: top;\n",
              "    }\n",
              "\n",
              "    .dataframe thead th {\n",
              "        text-align: right;\n",
              "    }\n",
              "</style>\n",
              "<table border=\"1\" class=\"dataframe\">\n",
              "  <thead>\n",
              "    <tr style=\"text-align: right;\">\n",
              "      <th></th>\n",
              "      <th>codes</th>\n",
              "      <th>use</th>\n",
              "    </tr>\n",
              "  </thead>\n",
              "  <tbody>\n",
              "    <tr>\n",
              "      <th>0</th>\n",
              "      <td>2401</td>\n",
              "      <td>True</td>\n",
              "    </tr>\n",
              "    <tr>\n",
              "      <th>1</th>\n",
              "      <td>2402</td>\n",
              "      <td>True</td>\n",
              "    </tr>\n",
              "    <tr>\n",
              "      <th>2</th>\n",
              "      <td>2403</td>\n",
              "      <td>True</td>\n",
              "    </tr>\n",
              "    <tr>\n",
              "      <th>3</th>\n",
              "      <td>0901</td>\n",
              "      <td>True</td>\n",
              "    </tr>\n",
              "    <tr>\n",
              "      <th>4</th>\n",
              "      <td>0902</td>\n",
              "      <td>True</td>\n",
              "    </tr>\n",
              "    <tr>\n",
              "      <th>...</th>\n",
              "      <td>...</td>\n",
              "      <td>...</td>\n",
              "    </tr>\n",
              "    <tr>\n",
              "      <th>99</th>\n",
              "      <td>8215</td>\n",
              "      <td>True</td>\n",
              "    </tr>\n",
              "    <tr>\n",
              "      <th>100</th>\n",
              "      <td>3105</td>\n",
              "      <td>True</td>\n",
              "    </tr>\n",
              "    <tr>\n",
              "      <th>101</th>\n",
              "      <td>3405</td>\n",
              "      <td>True</td>\n",
              "    </tr>\n",
              "    <tr>\n",
              "      <th>102</th>\n",
              "      <td>9503</td>\n",
              "      <td>True</td>\n",
              "    </tr>\n",
              "    <tr>\n",
              "      <th>103</th>\n",
              "      <td>9504</td>\n",
              "      <td>True</td>\n",
              "    </tr>\n",
              "  </tbody>\n",
              "</table>\n",
              "<p>104 rows × 2 columns</p>\n",
              "</div>"
            ]
          },
          "metadata": {},
          "execution_count": 49
        }
      ]
    },
    {
      "cell_type": "code",
      "source": [],
      "metadata": {
        "id": "VLxYQ6J-0LAN"
      },
      "execution_count": null,
      "outputs": []
    }
  ]
}