{
  "nbformat": 4,
  "nbformat_minor": 0,
  "metadata": {
    "colab": {
      "provenance": [],
      "authorship_tag": "ABX9TyPsuo98w8+JEHnx/7DthRrj",
      "include_colab_link": true
    },
    "kernelspec": {
      "name": "python3",
      "display_name": "Python 3"
    },
    "language_info": {
      "name": "python"
    }
  },
  "cells": [
    {
      "cell_type": "markdown",
      "metadata": {
        "id": "view-in-github",
        "colab_type": "text"
      },
      "source": [
        "<a href=\"https://colab.research.google.com/github/Susanna-Salata/export_import/blob/main/Export_Import_2022.ipynb\" target=\"_parent\"><img src=\"https://colab.research.google.com/assets/colab-badge.svg\" alt=\"Open In Colab\"/></a>"
      ]
    },
    {
      "cell_type": "code",
      "source": [
        "!pip install pandas openpyxl pyxlsb"
      ],
      "metadata": {
        "colab": {
          "base_uri": "https://localhost:8080/"
        },
        "id": "5i1PiJntlywx",
        "outputId": "1721ee02-7b1b-4e18-e803-97c7fa6534f9"
      },
      "execution_count": 102,
      "outputs": [
        {
          "output_type": "stream",
          "name": "stdout",
          "text": [
            "Requirement already satisfied: pandas in c:\\users\\susan\\appdata\\local\\programs\\python\\python39\\lib\\site-packages (1.4.3)\n",
            "Requirement already satisfied: openpyxl in c:\\users\\susan\\appdata\\local\\programs\\python\\python39\\lib\\site-packages (3.0.10)\n",
            "Collecting pyxlsb\n",
            "  Downloading pyxlsb-1.0.10-py2.py3-none-any.whl (23 kB)\n",
            "Requirement already satisfied: pytz>=2020.1 in c:\\users\\susan\\appdata\\local\\programs\\python\\python39\\lib\\site-packages (from pandas) (2022.1)\n",
            "Requirement already satisfied: numpy>=1.18.5 in c:\\users\\susan\\appdata\\local\\programs\\python\\python39\\lib\\site-packages (from pandas) (1.23.1)\n",
            "Requirement already satisfied: python-dateutil>=2.8.1 in c:\\users\\susan\\appdata\\local\\programs\\python\\python39\\lib\\site-packages (from pandas) (2.8.2)\n",
            "Requirement already satisfied: et-xmlfile in c:\\users\\susan\\appdata\\local\\programs\\python\\python39\\lib\\site-packages (from openpyxl) (1.1.0)\n",
            "Requirement already satisfied: six>=1.5 in c:\\users\\susan\\appdata\\local\\programs\\python\\python39\\lib\\site-packages (from python-dateutil>=2.8.1->pandas) (1.16.0)\n",
            "Installing collected packages: pyxlsb\n",
            "Successfully installed pyxlsb-1.0.10\n"
          ]
        },
        {
          "output_type": "stream",
          "name": "stderr",
          "text": [
            "WARNING: You are using pip version 22.0.4; however, version 22.3.1 is available.\n",
            "You should consider upgrading via the 'C:\\Users\\susan\\AppData\\Local\\Programs\\Python\\Python39\\python.exe -m pip install --upgrade pip' command.\n"
          ]
        }
      ]
    },
    {
      "cell_type": "code",
      "execution_count": 84,
      "metadata": {
        "id": "JH8h9-0AZ6VU"
      },
      "outputs": [],
      "source": [
        "import pandas as pd\n",
        "import numpy as np\n",
        "import glob\n",
        "from datetime import datetime"
      ]
    },
    {
      "cell_type": "markdown",
      "source": [
        "# Export"
      ],
      "metadata": {
        "id": "3mR6m01zUDRD"
      }
    },
    {
      "cell_type": "code",
      "source": [
        "data_path = \"D:/projects/export_import/data/\"\n",
        "folder = \"export/\"\n"
      ],
      "metadata": {
        "id": "YZHlMJ7AgxmJ"
      },
      "execution_count": 120,
      "outputs": []
    },
    {
      "cell_type": "code",
      "source": [
        "file_list = glob.glob(data_path + folder + \"/*/*\")\n",
        "file_list"
      ],
      "metadata": {
        "colab": {
          "base_uri": "https://localhost:8080/"
        },
        "id": "mdWFFsV5jqIx",
        "outputId": "916f559c-dc08-4ea2-825f-22e4b5c4378e"
      },
      "execution_count": 121,
      "outputs": [
        {
          "output_type": "execute_result",
          "data": {
            "text/plain": [
              "['D:/projects/export_import/data/export\\\\2022\\\\export-01-2022.xlsx',\n",
              " 'D:/projects/export_import/data/export\\\\2022\\\\export-02-2022.xlsx',\n",
              " 'D:/projects/export_import/data/export\\\\2022\\\\export-03-2022.xlsx',\n",
              " 'D:/projects/export_import/data/export\\\\2022\\\\export-04-2022.xlsx',\n",
              " 'D:/projects/export_import/data/export\\\\2022\\\\export-05-2022.xlsx',\n",
              " 'D:/projects/export_import/data/export\\\\2022\\\\export-06-2022.xlsx',\n",
              " 'D:/projects/export_import/data/export\\\\2022\\\\export-07-2022.xlsx',\n",
              " 'D:/projects/export_import/data/export\\\\2022\\\\export-08-2022.xlsb',\n",
              " 'D:/projects/export_import/data/export\\\\2022\\\\export-09-2022.xlsx',\n",
              " 'D:/projects/export_import/data/export\\\\2022\\\\export-10-2022.xlsx',\n",
              " 'D:/projects/export_import/data/export\\\\2022\\\\export-11-2022.xlsx']"
            ]
          },
          "metadata": {},
          "execution_count": 121
        }
      ]
    },
    {
      "cell_type": "code",
      "source": [
        "df = pd.DataFrame()\n",
        "for file_path in file_list[0:2]:\n",
        "    df_temp = pd.read_excel(file_path, sheet_name=0, \n",
        "                   dtype=str,\n",
        "                   names=[\"date\", \"custom_id\", \"doc_id\", \"row_id\", \"code\", \"discription\", \"custom\", \n",
        "                          \"edrpou_seller\", \"seller\", \"edrpou_ukr\", \"ukr_side\", \n",
        "                          \"country\", \"buyer\", \"buyer_2\", \"base\", \n",
        "                          \"transport_ukr\", \"transport_custom\", \"units\", \"amount\",\n",
        "                          \"weight\", \"doc_price_usd\", \"custom_price_usd\", \n",
        "                          \"doc_type\", \"regime\"],\n",
        "                   header=None,\n",
        "                   skiprows=1)\n",
        "    df = pd.concat([df, df_temp], axis=0)\n"
      ],
      "metadata": {
        "id": "hVLUqfD_Say1"
      },
      "execution_count": 122,
      "outputs": []
    },
    {
      "cell_type": "code",
      "source": [
        "df.shape"
      ],
      "metadata": {
        "id": "Y9xtZHXPg9my",
        "colab": {
          "base_uri": "https://localhost:8080/"
        },
        "outputId": "23469fac-a0d1-4de9-d2b4-68503347d29f"
      },
      "execution_count": 123,
      "outputs": [
        {
          "output_type": "execute_result",
          "data": {
            "text/plain": [
              "(359533, 24)"
            ]
          },
          "metadata": {},
          "execution_count": 123
        }
      ]
    },
    {
      "cell_type": "code",
      "source": [
        "#df[\"row_id\"] = df[\"row_id\"].astype(int)\n",
        "#df[\"base\"] = df[\"base\"].astype(int)\n",
        "\n",
        "df[\"amount\"] = df[\"amount\"].astype(float)\n",
        "df[\"weight\"] = df[\"weight\"].astype(float)\n",
        "df[\"doc_price_usd\"] = df[\"doc_price_usd\"].astype(float)\n",
        "df[\"custom_price_usd\"] = df[\"custom_price_usd\"].astype(float)"
      ],
      "metadata": {
        "id": "iYw3z6P_nkw4"
      },
      "execution_count": 125,
      "outputs": []
    },
    {
      "cell_type": "code",
      "source": [
        "df[df[\"base\"] == ' 66690173, 68685940, 68789940']"
      ],
      "metadata": {
        "colab": {
          "base_uri": "https://localhost:8080/",
          "height": 99
        },
        "id": "g_iofC64dAjc",
        "outputId": "03625acf-5dd0-41dd-df11-b7e7cfe1d839"
      },
      "execution_count": 126,
      "outputs": [
        {
          "output_type": "execute_result",
          "data": {
            "text/plain": [
              "Empty DataFrame\n",
              "Columns: [date, custom_id, doc_id, row_id, code, discription, custom, edrpou_seller, seller, edrpou_ukr, ukr_side, country, buyer, buyer_2, base, transport_ukr, transport_custom, units, amount, weight, doc_price_usd, custom_price_usd, doc_type, regime]\n",
              "Index: []\n",
              "\n",
              "[0 rows x 24 columns]"
            ],
            "text/html": [
              "<div>\n",
              "<style scoped>\n",
              "    .dataframe tbody tr th:only-of-type {\n",
              "        vertical-align: middle;\n",
              "    }\n",
              "\n",
              "    .dataframe tbody tr th {\n",
              "        vertical-align: top;\n",
              "    }\n",
              "\n",
              "    .dataframe thead th {\n",
              "        text-align: right;\n",
              "    }\n",
              "</style>\n",
              "<table border=\"1\" class=\"dataframe\">\n",
              "  <thead>\n",
              "    <tr style=\"text-align: right;\">\n",
              "      <th></th>\n",
              "      <th>date</th>\n",
              "      <th>custom_id</th>\n",
              "      <th>doc_id</th>\n",
              "      <th>row_id</th>\n",
              "      <th>code</th>\n",
              "      <th>discription</th>\n",
              "      <th>custom</th>\n",
              "      <th>edrpou_seller</th>\n",
              "      <th>seller</th>\n",
              "      <th>edrpou_ukr</th>\n",
              "      <th>...</th>\n",
              "      <th>base</th>\n",
              "      <th>transport_ukr</th>\n",
              "      <th>transport_custom</th>\n",
              "      <th>units</th>\n",
              "      <th>amount</th>\n",
              "      <th>weight</th>\n",
              "      <th>doc_price_usd</th>\n",
              "      <th>custom_price_usd</th>\n",
              "      <th>doc_type</th>\n",
              "      <th>regime</th>\n",
              "    </tr>\n",
              "  </thead>\n",
              "  <tbody>\n",
              "  </tbody>\n",
              "</table>\n",
              "<p>0 rows × 24 columns</p>\n",
              "</div>"
            ]
          },
          "metadata": {},
          "execution_count": 126
        }
      ]
    },
    {
      "cell_type": "code",
      "source": [
        "df[\"date\"] = df[\"date\"].str[0:10]\n",
        "df[\"date\"]"
      ],
      "metadata": {
        "colab": {
          "base_uri": "https://localhost:8080/"
        },
        "id": "OLgGJjN4MdcB",
        "outputId": "1fd9a79f-a13d-4648-f1d0-5dada4fd65bd"
      },
      "execution_count": 127,
      "outputs": [
        {
          "output_type": "execute_result",
          "data": {
            "text/plain": [
              "0         2022-01-01\n",
              "1         2022-01-01\n",
              "2         2022-01-01\n",
              "3         2022-01-01\n",
              "4         2022-01-01\n",
              "             ...    \n",
              "184979    30.02.2022\n",
              "184980    30.02.2022\n",
              "184981    30.02.2022\n",
              "184982    30.02.2022\n",
              "184983    30.02.2022\n",
              "Name: date, Length: 359533, dtype: object"
            ]
          },
          "metadata": {},
          "execution_count": 127
        }
      ]
    },
    {
      "cell_type": "code",
      "source": [
        "#df.dtypes=[str, str, str, str, int, str, str, str, str, str, str, str, str, str, str, int, str, str, str, int, float, float, float, str, str]\n",
        "df.info()"
      ],
      "metadata": {
        "colab": {
          "base_uri": "https://localhost:8080/"
        },
        "id": "g2xKWGHznBqV",
        "outputId": "019702b2-a731-42d0-e7a8-b783c407700d"
      },
      "execution_count": 128,
      "outputs": [
        {
          "output_type": "stream",
          "name": "stdout",
          "text": [
            "<class 'pandas.core.frame.DataFrame'>\n",
            "Int64Index: 359533 entries, 0 to 184983\n",
            "Data columns (total 24 columns):\n",
            " #   Column            Non-Null Count   Dtype  \n",
            "---  ------            --------------   -----  \n",
            " 0   date              359533 non-null  object \n",
            " 1   custom_id         359533 non-null  object \n",
            " 2   doc_id            359533 non-null  object \n",
            " 3   row_id            359533 non-null  object \n",
            " 4   code              359533 non-null  object \n",
            " 5   discription       359533 non-null  object \n",
            " 6   custom            359533 non-null  object \n",
            " 7   edrpou_seller     359533 non-null  object \n",
            " 8   seller            359533 non-null  object \n",
            " 9   edrpou_ukr        359533 non-null  object \n",
            " 10  ukr_side          359533 non-null  object \n",
            " 11  country           359533 non-null  object \n",
            " 12  buyer             347024 non-null  object \n",
            " 13  buyer_2           81268 non-null   object \n",
            " 14  base              359533 non-null  object \n",
            " 15  transport_ukr     359533 non-null  object \n",
            " 16  transport_custom  359533 non-null  object \n",
            " 17  units             359533 non-null  object \n",
            " 18  amount            359533 non-null  float64\n",
            " 19  weight            359533 non-null  float64\n",
            " 20  doc_price_usd     359533 non-null  float64\n",
            " 21  custom_price_usd  359533 non-null  float64\n",
            " 22  doc_type          359533 non-null  object \n",
            " 23  regime            359533 non-null  object \n",
            "dtypes: float64(4), object(20)\n",
            "memory usage: 68.6+ MB\n"
          ]
        }
      ]
    },
    {
      "cell_type": "code",
      "source": [
        "df[\"amount\"].nunique()\n",
        "df[\"amount\"].astype(float)"
      ],
      "metadata": {
        "colab": {
          "base_uri": "https://localhost:8080/"
        },
        "id": "WFg4bjG3JmvP",
        "outputId": "ca0d7e3f-63ca-4159-b511-f62d8fad3679"
      },
      "execution_count": 129,
      "outputs": [
        {
          "output_type": "execute_result",
          "data": {
            "text/plain": [
              "0           0.0\n",
              "1           0.0\n",
              "2           0.0\n",
              "3         240.0\n",
              "4         120.0\n",
              "          ...  \n",
              "184979      0.0\n",
              "184980      0.0\n",
              "184981      0.0\n",
              "184982      0.0\n",
              "184983      0.0\n",
              "Name: amount, Length: 359533, dtype: float64"
            ]
          },
          "metadata": {},
          "execution_count": 129
        }
      ]
    },
    {
      "cell_type": "code",
      "source": [
        "df[\"base\"].unique()\n",
        "#df[df[\"base\"] == \"0\"]\n",
        "df[\"base\"].value_counts()"
      ],
      "metadata": {
        "colab": {
          "base_uri": "https://localhost:8080/"
        },
        "id": "N4t4dt1KokMn",
        "outputId": "47a5d248-b2c1-405b-ee0d-efb4a86659b0"
      },
      "execution_count": 130,
      "outputs": [
        {
          "output_type": "execute_result",
          "data": {
            "text/plain": [
              "0                       43471\n",
              "CPT MD CHISINAU         25466\n",
              "FCA UA КИЇВ             10356\n",
              "FCA UA KYIV              5070\n",
              "FCA UA ОДЕСА             4987\n",
              "                        ...  \n",
              "CPT CH ARZIER               1\n",
              "CPT FI ESPOO FINLAND        1\n",
              "CPT AE ABU DHABI UAE        1\n",
              "DAP PL ГДИНЯ                1\n",
              "CPT AZ СТ СУМГАИТ           1\n",
              "Name: base, Length: 16868, dtype: int64"
            ]
          },
          "metadata": {},
          "execution_count": 130
        }
      ]
    },
    {
      "cell_type": "code",
      "source": [
        "df.head(1)"
      ],
      "metadata": {
        "colab": {
          "base_uri": "https://localhost:8080/",
          "height": 269
        },
        "id": "DNcL_KGZijWc",
        "outputId": "2ac1e287-3660-43c6-ed8e-93f8549f7e8c"
      },
      "execution_count": 131,
      "outputs": [
        {
          "output_type": "execute_result",
          "data": {
            "text/plain": [
              "         date custom_id  doc_id row_id       code  \\\n",
              "0  2022-01-01  UA100020  546681      1  209101900   \n",
              "\n",
              "                                         discription            custom  \\\n",
              "0  СВИНЯЧИЙ ЖИР, ЯКИЙ ВІДОКРЕМЛЕНИЙ ВІД ПІСНОГО М...  КИЇВСЬКА МИТНИЦЯ   \n",
              "\n",
              "  edrpou_seller                                             seller edrpou_ukr  \\\n",
              "0      40853445  ТОВ ДИМНЕ М ЯСО ВІД ТАРАСА 01042 М КИЇВ ВУЛ ЧИ...   40853445   \n",
              "\n",
              "   ... base transport_ukr      transport_custom units amount weight  \\\n",
              "0  ...    0     НЕВІДОМИЙ  ВАНТАЖНИЙ АВТОМОБІЛЬ    КГ    0.0   3.75   \n",
              "\n",
              "  doc_price_usd custom_price_usd  doc_type    regime  \n",
              "0         33.31             30.0        АА  ЕХ 72 00  \n",
              "\n",
              "[1 rows x 24 columns]"
            ],
            "text/html": [
              "<div>\n",
              "<style scoped>\n",
              "    .dataframe tbody tr th:only-of-type {\n",
              "        vertical-align: middle;\n",
              "    }\n",
              "\n",
              "    .dataframe tbody tr th {\n",
              "        vertical-align: top;\n",
              "    }\n",
              "\n",
              "    .dataframe thead th {\n",
              "        text-align: right;\n",
              "    }\n",
              "</style>\n",
              "<table border=\"1\" class=\"dataframe\">\n",
              "  <thead>\n",
              "    <tr style=\"text-align: right;\">\n",
              "      <th></th>\n",
              "      <th>date</th>\n",
              "      <th>custom_id</th>\n",
              "      <th>doc_id</th>\n",
              "      <th>row_id</th>\n",
              "      <th>code</th>\n",
              "      <th>discription</th>\n",
              "      <th>custom</th>\n",
              "      <th>edrpou_seller</th>\n",
              "      <th>seller</th>\n",
              "      <th>edrpou_ukr</th>\n",
              "      <th>...</th>\n",
              "      <th>base</th>\n",
              "      <th>transport_ukr</th>\n",
              "      <th>transport_custom</th>\n",
              "      <th>units</th>\n",
              "      <th>amount</th>\n",
              "      <th>weight</th>\n",
              "      <th>doc_price_usd</th>\n",
              "      <th>custom_price_usd</th>\n",
              "      <th>doc_type</th>\n",
              "      <th>regime</th>\n",
              "    </tr>\n",
              "  </thead>\n",
              "  <tbody>\n",
              "    <tr>\n",
              "      <th>0</th>\n",
              "      <td>2022-01-01</td>\n",
              "      <td>UA100020</td>\n",
              "      <td>546681</td>\n",
              "      <td>1</td>\n",
              "      <td>209101900</td>\n",
              "      <td>СВИНЯЧИЙ ЖИР, ЯКИЙ ВІДОКРЕМЛЕНИЙ ВІД ПІСНОГО М...</td>\n",
              "      <td>КИЇВСЬКА МИТНИЦЯ</td>\n",
              "      <td>40853445</td>\n",
              "      <td>ТОВ ДИМНЕ М ЯСО ВІД ТАРАСА 01042 М КИЇВ ВУЛ ЧИ...</td>\n",
              "      <td>40853445</td>\n",
              "      <td>...</td>\n",
              "      <td>0</td>\n",
              "      <td>НЕВІДОМИЙ</td>\n",
              "      <td>ВАНТАЖНИЙ АВТОМОБІЛЬ</td>\n",
              "      <td>КГ</td>\n",
              "      <td>0.0</td>\n",
              "      <td>3.75</td>\n",
              "      <td>33.31</td>\n",
              "      <td>30.0</td>\n",
              "      <td>АА</td>\n",
              "      <td>ЕХ 72 00</td>\n",
              "    </tr>\n",
              "  </tbody>\n",
              "</table>\n",
              "<p>1 rows × 24 columns</p>\n",
              "</div>"
            ]
          },
          "metadata": {},
          "execution_count": 131
        }
      ]
    },
    {
      "cell_type": "code",
      "source": [
        "#df.iloc[0]"
      ],
      "metadata": {
        "id": "f-U-ozq4iRX8"
      },
      "execution_count": 132,
      "outputs": []
    },
    {
      "cell_type": "code",
      "source": [
        "df.shape"
      ],
      "metadata": {
        "colab": {
          "base_uri": "https://localhost:8080/"
        },
        "id": "jHeS-YC1hfk0",
        "outputId": "692c1f72-47d2-4398-d2a8-d060c4fec90f"
      },
      "execution_count": 133,
      "outputs": [
        {
          "output_type": "execute_result",
          "data": {
            "text/plain": [
              "(359533, 24)"
            ]
          },
          "metadata": {},
          "execution_count": 133
        }
      ]
    },
    {
      "cell_type": "code",
      "source": [
        "code_path = \"D:/projects/export_import/data/codes/euro_codes.csv\""
      ],
      "metadata": {
        "id": "9EVJIjM4nHBr"
      },
      "execution_count": 134,
      "outputs": []
    },
    {
      "cell_type": "code",
      "source": [
        "df_codes = pd.read_csv(code_path, dtype=str)\n",
        "df_codes"
      ],
      "metadata": {
        "colab": {
          "base_uri": "https://localhost:8080/",
          "height": 424
        },
        "id": "6qZH35eJvCps",
        "outputId": "4a1f80e1-a5e4-4e93-fc8b-1a37e54204a3"
      },
      "execution_count": 135,
      "outputs": [
        {
          "output_type": "execute_result",
          "data": {
            "text/plain": [
              "    codes\n",
              "0    2401\n",
              "1    2402\n",
              "2    2403\n",
              "3    0901\n",
              "4    0902\n",
              "..    ...\n",
              "99   8215\n",
              "100  3105\n",
              "101  3405\n",
              "102  9503\n",
              "103  9504\n",
              "\n",
              "[104 rows x 1 columns]"
            ],
            "text/html": [
              "<div>\n",
              "<style scoped>\n",
              "    .dataframe tbody tr th:only-of-type {\n",
              "        vertical-align: middle;\n",
              "    }\n",
              "\n",
              "    .dataframe tbody tr th {\n",
              "        vertical-align: top;\n",
              "    }\n",
              "\n",
              "    .dataframe thead th {\n",
              "        text-align: right;\n",
              "    }\n",
              "</style>\n",
              "<table border=\"1\" class=\"dataframe\">\n",
              "  <thead>\n",
              "    <tr style=\"text-align: right;\">\n",
              "      <th></th>\n",
              "      <th>codes</th>\n",
              "    </tr>\n",
              "  </thead>\n",
              "  <tbody>\n",
              "    <tr>\n",
              "      <th>0</th>\n",
              "      <td>2401</td>\n",
              "    </tr>\n",
              "    <tr>\n",
              "      <th>1</th>\n",
              "      <td>2402</td>\n",
              "    </tr>\n",
              "    <tr>\n",
              "      <th>2</th>\n",
              "      <td>2403</td>\n",
              "    </tr>\n",
              "    <tr>\n",
              "      <th>3</th>\n",
              "      <td>0901</td>\n",
              "    </tr>\n",
              "    <tr>\n",
              "      <th>4</th>\n",
              "      <td>0902</td>\n",
              "    </tr>\n",
              "    <tr>\n",
              "      <th>...</th>\n",
              "      <td>...</td>\n",
              "    </tr>\n",
              "    <tr>\n",
              "      <th>99</th>\n",
              "      <td>8215</td>\n",
              "    </tr>\n",
              "    <tr>\n",
              "      <th>100</th>\n",
              "      <td>3105</td>\n",
              "    </tr>\n",
              "    <tr>\n",
              "      <th>101</th>\n",
              "      <td>3405</td>\n",
              "    </tr>\n",
              "    <tr>\n",
              "      <th>102</th>\n",
              "      <td>9503</td>\n",
              "    </tr>\n",
              "    <tr>\n",
              "      <th>103</th>\n",
              "      <td>9504</td>\n",
              "    </tr>\n",
              "  </tbody>\n",
              "</table>\n",
              "<p>104 rows × 1 columns</p>\n",
              "</div>"
            ]
          },
          "metadata": {},
          "execution_count": 135
        }
      ]
    },
    {
      "cell_type": "code",
      "source": [
        "df[\"codes\"] = df[\"code\"]\n",
        "#df.head(2)"
      ],
      "metadata": {
        "id": "GBwWyvU1vQqS"
      },
      "execution_count": 150,
      "outputs": []
    },
    {
      "cell_type": "code",
      "source": [
        "codes = df.iloc[:,4].unique()\n",
        "codes"
      ],
      "metadata": {
        "colab": {
          "base_uri": "https://localhost:8080/"
        },
        "id": "HSzjftf_wJU3",
        "outputId": "a05b264f-e962-4a05-d594-4669acdf8616"
      },
      "execution_count": 137,
      "outputs": [
        {
          "output_type": "execute_result",
          "data": {
            "text/plain": [
              "array(['209101900', '209101100', '2201101100', ..., '7304599990',\n",
              "       '3823130000', '2853901000'], dtype=object)"
            ]
          },
          "metadata": {},
          "execution_count": 137
        }
      ]
    },
    {
      "cell_type": "code",
      "source": [
        "# Перебираємо коди із списку обраних і знаходимо відповідності в базі кодів\n",
        "any([codes[0].startswith(c) for c in df_codes.codes])"
      ],
      "metadata": {
        "colab": {
          "base_uri": "https://localhost:8080/"
        },
        "id": "LyragI7yxsKw",
        "outputId": "f99a5e1b-289b-4ca1-8eed-3b33c60ce546"
      },
      "execution_count": 138,
      "outputs": [
        {
          "output_type": "execute_result",
          "data": {
            "text/plain": [
              "False"
            ]
          },
          "metadata": {},
          "execution_count": 138
        }
      ]
    },
    {
      "cell_type": "code",
      "source": [
        "df[\"use_code\"] = df.codes.map(lambda x: any([x.startswith(c) for c in df_codes.codes]))\n",
        "#df[df[\"use_code\"]]"
      ],
      "metadata": {
        "id": "wByUS58EycxV"
      },
      "execution_count": 139,
      "outputs": []
    },
    {
      "cell_type": "code",
      "source": [
        "# Загружаємо дані про курси валют\n",
        "data_path + \"Kurs_dovid.csv\""
      ],
      "metadata": {
        "colab": {
          "base_uri": "https://localhost:8080/"
        },
        "id": "RuwBh816LTDP",
        "outputId": "f6011f27-bea4-44dd-9e93-387a3e77a732"
      },
      "execution_count": 140,
      "outputs": [
        {
          "output_type": "execute_result",
          "data": {
            "text/plain": [
              "'D:/projects/export_import/data/Kurs_dovid.csv'"
            ]
          },
          "metadata": {},
          "execution_count": 140
        }
      ]
    },
    {
      "cell_type": "code",
      "source": [
        "df_rates = pd.read_csv(data_path + \"Kurs_dovid.csv\")\n",
        "df_rates"
      ],
      "metadata": {
        "id": "VLxYQ6J-0LAN",
        "colab": {
          "base_uri": "https://localhost:8080/",
          "height": 424
        },
        "outputId": "15d77c9c-4661-4cca-e6fc-fc7d04f60a9b"
      },
      "execution_count": 141,
      "outputs": [
        {
          "output_type": "execute_result",
          "data": {
            "text/plain": [
              "           date     rate\n",
              "0    01.01.2022  27.2984\n",
              "1    02.01.2022  27.2984\n",
              "2    03.01.2022  27.2984\n",
              "3    04.01.2022  27.2984\n",
              "4    05.01.2022  27.4507\n",
              "..          ...      ...\n",
              "360  27.12.2022  36.5686\n",
              "361  28.12.2022  36.5686\n",
              "362  29.12.2022  36.5686\n",
              "363  30.12.2022  36.5686\n",
              "364  31.12.2022  36.5686\n",
              "\n",
              "[365 rows x 2 columns]"
            ],
            "text/html": [
              "<div>\n",
              "<style scoped>\n",
              "    .dataframe tbody tr th:only-of-type {\n",
              "        vertical-align: middle;\n",
              "    }\n",
              "\n",
              "    .dataframe tbody tr th {\n",
              "        vertical-align: top;\n",
              "    }\n",
              "\n",
              "    .dataframe thead th {\n",
              "        text-align: right;\n",
              "    }\n",
              "</style>\n",
              "<table border=\"1\" class=\"dataframe\">\n",
              "  <thead>\n",
              "    <tr style=\"text-align: right;\">\n",
              "      <th></th>\n",
              "      <th>date</th>\n",
              "      <th>rate</th>\n",
              "    </tr>\n",
              "  </thead>\n",
              "  <tbody>\n",
              "    <tr>\n",
              "      <th>0</th>\n",
              "      <td>01.01.2022</td>\n",
              "      <td>27.2984</td>\n",
              "    </tr>\n",
              "    <tr>\n",
              "      <th>1</th>\n",
              "      <td>02.01.2022</td>\n",
              "      <td>27.2984</td>\n",
              "    </tr>\n",
              "    <tr>\n",
              "      <th>2</th>\n",
              "      <td>03.01.2022</td>\n",
              "      <td>27.2984</td>\n",
              "    </tr>\n",
              "    <tr>\n",
              "      <th>3</th>\n",
              "      <td>04.01.2022</td>\n",
              "      <td>27.2984</td>\n",
              "    </tr>\n",
              "    <tr>\n",
              "      <th>4</th>\n",
              "      <td>05.01.2022</td>\n",
              "      <td>27.4507</td>\n",
              "    </tr>\n",
              "    <tr>\n",
              "      <th>...</th>\n",
              "      <td>...</td>\n",
              "      <td>...</td>\n",
              "    </tr>\n",
              "    <tr>\n",
              "      <th>360</th>\n",
              "      <td>27.12.2022</td>\n",
              "      <td>36.5686</td>\n",
              "    </tr>\n",
              "    <tr>\n",
              "      <th>361</th>\n",
              "      <td>28.12.2022</td>\n",
              "      <td>36.5686</td>\n",
              "    </tr>\n",
              "    <tr>\n",
              "      <th>362</th>\n",
              "      <td>29.12.2022</td>\n",
              "      <td>36.5686</td>\n",
              "    </tr>\n",
              "    <tr>\n",
              "      <th>363</th>\n",
              "      <td>30.12.2022</td>\n",
              "      <td>36.5686</td>\n",
              "    </tr>\n",
              "    <tr>\n",
              "      <th>364</th>\n",
              "      <td>31.12.2022</td>\n",
              "      <td>36.5686</td>\n",
              "    </tr>\n",
              "  </tbody>\n",
              "</table>\n",
              "<p>365 rows × 2 columns</p>\n",
              "</div>"
            ]
          },
          "metadata": {},
          "execution_count": 141
        }
      ]
    },
    {
      "cell_type": "code",
      "source": [
        "# Конвертуємо дату в таблиці курсів валют у формат відповідний до основного дата фрейму\n",
        "df_rates[\"date\"] = df_rates[\"date\"].map(lambda x: datetime.strptime(x, \"%d.%m.%Y\").strftime(\"%Y-%m-%d\"))\n",
        "df_rates.head()"
      ],
      "metadata": {
        "colab": {
          "base_uri": "https://localhost:8080/",
          "height": 206
        },
        "id": "NAPMb_6dO8nM",
        "outputId": "e29edd42-1b2d-4c6c-8352-712095dfe027"
      },
      "execution_count": 142,
      "outputs": [
        {
          "output_type": "execute_result",
          "data": {
            "text/plain": [
              "         date     rate\n",
              "0  2022-01-01  27.2984\n",
              "1  2022-01-02  27.2984\n",
              "2  2022-01-03  27.2984\n",
              "3  2022-01-04  27.2984\n",
              "4  2022-01-05  27.4507"
            ],
            "text/html": [
              "<div>\n",
              "<style scoped>\n",
              "    .dataframe tbody tr th:only-of-type {\n",
              "        vertical-align: middle;\n",
              "    }\n",
              "\n",
              "    .dataframe tbody tr th {\n",
              "        vertical-align: top;\n",
              "    }\n",
              "\n",
              "    .dataframe thead th {\n",
              "        text-align: right;\n",
              "    }\n",
              "</style>\n",
              "<table border=\"1\" class=\"dataframe\">\n",
              "  <thead>\n",
              "    <tr style=\"text-align: right;\">\n",
              "      <th></th>\n",
              "      <th>date</th>\n",
              "      <th>rate</th>\n",
              "    </tr>\n",
              "  </thead>\n",
              "  <tbody>\n",
              "    <tr>\n",
              "      <th>0</th>\n",
              "      <td>2022-01-01</td>\n",
              "      <td>27.2984</td>\n",
              "    </tr>\n",
              "    <tr>\n",
              "      <th>1</th>\n",
              "      <td>2022-01-02</td>\n",
              "      <td>27.2984</td>\n",
              "    </tr>\n",
              "    <tr>\n",
              "      <th>2</th>\n",
              "      <td>2022-01-03</td>\n",
              "      <td>27.2984</td>\n",
              "    </tr>\n",
              "    <tr>\n",
              "      <th>3</th>\n",
              "      <td>2022-01-04</td>\n",
              "      <td>27.2984</td>\n",
              "    </tr>\n",
              "    <tr>\n",
              "      <th>4</th>\n",
              "      <td>2022-01-05</td>\n",
              "      <td>27.4507</td>\n",
              "    </tr>\n",
              "  </tbody>\n",
              "</table>\n",
              "</div>"
            ]
          },
          "metadata": {},
          "execution_count": 142
        }
      ]
    },
    {
      "cell_type": "code",
      "source": [
        "# Об\"єднуємо дата фрейми\n",
        "df = pd.merge(df, df_rates, on=\"date\", how=\"left\")\n",
        "#df.head(2)"
      ],
      "metadata": {
        "id": "iCUC1Gq6MRQc"
      },
      "execution_count": 149,
      "outputs": []
    },
    {
      "cell_type": "code",
      "source": [
        "# Конвертуємо в грн по курсу НБУ\n",
        "df[\"custom_price_uah\"] = round(df[\"custom_price_usd\"]*df[\"rate\"], 2)\n",
        "df[\"doc_price_uah\"] = round(df[\"doc_price_usd\"]*df[\"rate\"], 2)"
      ],
      "metadata": {
        "id": "ijCTc0JgQxRe"
      },
      "execution_count": 144,
      "outputs": []
    },
    {
      "cell_type": "code",
      "source": [
        "#df.head(2)"
      ],
      "metadata": {
        "id": "oSn4ZDlKRT5h"
      },
      "execution_count": 148,
      "outputs": []
    },
    {
      "cell_type": "code",
      "source": [
        "df.sample(n=100).to_csv(path_or_buf=data_path + \"export_sample.csv\", header=True, sep=\",\", index=False)"
      ],
      "metadata": {
        "id": "yWEAGjWDiivA"
      },
      "execution_count": 147,
      "outputs": []
    },
    {
      "cell_type": "markdown",
      "source": [
        "# Import"
      ],
      "metadata": {
        "id": "TZ9ErgY3WyZ0"
      }
    },
    {
      "cell_type": "code",
      "source": [
        "#folder = \"import/\"\n",
        "file_list = glob.glob(data_path + folder + \"/*/*\")\n",
        "file_list"
      ],
      "metadata": {
        "colab": {
          "base_uri": "https://localhost:8080/"
        },
        "id": "UTdc9_NcXeVP",
        "outputId": "7ac46ad3-2ef6-45dc-bfb7-38f7d3ef093f"
      },
      "execution_count": 104,
      "outputs": [
        {
          "output_type": "execute_result",
          "data": {
            "text/plain": [
              "['D:/projects/export_import/data/import\\\\2022\\\\import 01-2022.xlsb',\n",
              " 'D:/projects/export_import/data/import\\\\2022\\\\import 02-2022.xlsx',\n",
              " 'D:/projects/export_import/data/import\\\\2022\\\\import 03-2022.xlsx',\n",
              " 'D:/projects/export_import/data/import\\\\2022\\\\import 04-2022.xlsx',\n",
              " 'D:/projects/export_import/data/import\\\\2022\\\\import 05-2022.xlsx',\n",
              " 'D:/projects/export_import/data/import\\\\2022\\\\import 06-2022.xlsb',\n",
              " 'D:/projects/export_import/data/import\\\\2022\\\\import 07-2022.xlsb',\n",
              " 'D:/projects/export_import/data/import\\\\2022\\\\import 08-2022.xlsb',\n",
              " 'D:/projects/export_import/data/import\\\\2022\\\\import 09-2022.xlsx',\n",
              " 'D:/projects/export_import/data/import\\\\2022\\\\import 10-2022.xlsx',\n",
              " 'D:/projects/export_import/data/import\\\\2022\\\\import 11-2022.xlsx',\n",
              " 'D:/projects/export_import/data/import\\\\2022\\\\~$import 01-2022.xlsb']"
            ]
          },
          "metadata": {},
          "execution_count": 104
        }
      ]
    },
    {
      "cell_type": "code",
      "source": [
        "df_i = pd.DataFrame()\n",
        "for file_path in file_list:\n",
        "    df_temp = pd.read_excel(file_path, sheet_name=0, \n",
        "                   dtype=str,\n",
        "                   names=[\"date\", \"custom_id\", \"doc_id\", \"row_id\", \"code\", \"discription\", \"custom\", \n",
        "                          \"edrpou_seller\", \"seller\", \"edrpou_ukr\", \"ukr_side\", \n",
        "                          \"country\", \"buyer\", \"buyer_2\", \"base\", \n",
        "                          \"transport_ukr\", \"transport_custom\", \"units\", \"amount\",\n",
        "                          \"weight\", \"doc_price_usd\", \"custom_price_usd\", \n",
        "                          \"doc_type\", \"regime\"],\n",
        "                   header=None,\n",
        "                   skiprows=1)\n",
        "    df_i = pd.concat([df_i, df_temp], axis=0)"
      ],
      "metadata": {
        "id": "kA4oAMMCXBk5"
      },
      "execution_count": null,
      "outputs": []
    }
  ]
}