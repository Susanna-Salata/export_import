{
  "nbformat": 4,
  "nbformat_minor": 0,
  "metadata": {
    "colab": {
      "provenance": [],
      "authorship_tag": "ABX9TyOAoKEhL8gGkv4wV6/+M1MA",
      "include_colab_link": true
    },
    "kernelspec": {
      "name": "python3",
      "display_name": "Python 3"
    },
    "language_info": {
      "name": "python"
    }
  },
  "cells": [
    {
      "cell_type": "markdown",
      "metadata": {
        "id": "view-in-github",
        "colab_type": "text"
      },
      "source": [
        "<a href=\"https://colab.research.google.com/github/Susanna-Salata/export_import/blob/main/Export_Import_2022.ipynb\" target=\"_parent\"><img src=\"https://colab.research.google.com/assets/colab-badge.svg\" alt=\"Open In Colab\"/></a>"
      ]
    },
    {
      "cell_type": "code",
      "source": [
        "!pip install pandas openpyxl"
      ],
      "metadata": {
        "colab": {
          "base_uri": "https://localhost:8080/"
        },
        "id": "5i1PiJntlywx",
        "outputId": "d6691384-7025-41dc-a313-caeee7c97e4e"
      },
      "execution_count": 5,
      "outputs": [
        {
          "output_type": "stream",
          "name": "stdout",
          "text": [
            "Requirement already satisfied: pandas in c:\\users\\susan\\appdata\\local\\programs\\python\\python39\\lib\\site-packages (1.4.3)\n",
            "Collecting openpyxl\n",
            "  Downloading openpyxl-3.0.10-py2.py3-none-any.whl (242 kB)\n",
            "     -------------------------------------- 242.1/242.1 KB 2.1 MB/s eta 0:00:00\n",
            "Requirement already satisfied: numpy>=1.18.5 in c:\\users\\susan\\appdata\\local\\programs\\python\\python39\\lib\\site-packages (from pandas) (1.23.1)\n",
            "Requirement already satisfied: python-dateutil>=2.8.1 in c:\\users\\susan\\appdata\\local\\programs\\python\\python39\\lib\\site-packages (from pandas) (2.8.2)\n",
            "Requirement already satisfied: pytz>=2020.1 in c:\\users\\susan\\appdata\\local\\programs\\python\\python39\\lib\\site-packages (from pandas) (2022.1)\n",
            "Collecting et-xmlfile\n",
            "  Downloading et_xmlfile-1.1.0-py3-none-any.whl (4.7 kB)\n",
            "Requirement already satisfied: six>=1.5 in c:\\users\\susan\\appdata\\local\\programs\\python\\python39\\lib\\site-packages (from python-dateutil>=2.8.1->pandas) (1.16.0)\n",
            "Installing collected packages: et-xmlfile, openpyxl\n",
            "Successfully installed et-xmlfile-1.1.0 openpyxl-3.0.10\n"
          ]
        },
        {
          "output_type": "stream",
          "name": "stderr",
          "text": [
            "WARNING: You are using pip version 22.0.4; however, version 22.3.1 is available.\n",
            "You should consider upgrading via the 'C:\\Users\\susan\\AppData\\Local\\Programs\\Python\\Python39\\python.exe -m pip install --upgrade pip' command.\n"
          ]
        }
      ]
    },
    {
      "cell_type": "code",
      "execution_count": 11,
      "metadata": {
        "id": "JH8h9-0AZ6VU"
      },
      "outputs": [],
      "source": [
        "import pandas as pd\n",
        "import numpy as np\n",
        "import glob"
      ]
    },
    {
      "cell_type": "code",
      "source": [
        "data_path = \"D:/projects/export_import/data/\"\n",
        "folder = \"export/\"\n"
      ],
      "metadata": {
        "id": "YZHlMJ7AgxmJ"
      },
      "execution_count": 13,
      "outputs": []
    },
    {
      "cell_type": "code",
      "source": [
        "file_list = glob.glob(data_path + folder + \"/*/*\")\n",
        "file_list"
      ],
      "metadata": {
        "colab": {
          "base_uri": "https://localhost:8080/"
        },
        "id": "mdWFFsV5jqIx",
        "outputId": "d3a19f6b-8a4c-493e-822e-488056b26193"
      },
      "execution_count": 17,
      "outputs": [
        {
          "output_type": "execute_result",
          "data": {
            "text/plain": [
              "['D:/projects/export_import/data/export\\\\2022\\\\export-01-2022.xlsx',\n",
              " 'D:/projects/export_import/data/export\\\\2022\\\\export-02-2022.xlsx',\n",
              " 'D:/projects/export_import/data/export\\\\2022\\\\export-03-2022.xlsx',\n",
              " 'D:/projects/export_import/data/export\\\\2022\\\\export-04-2022.xlsx',\n",
              " 'D:/projects/export_import/data/export\\\\2022\\\\export-05-2022.xlsx',\n",
              " 'D:/projects/export_import/data/export\\\\2022\\\\export-06-2022.xlsx',\n",
              " 'D:/projects/export_import/data/export\\\\2022\\\\export-07-2022.xlsx',\n",
              " 'D:/projects/export_import/data/export\\\\2022\\\\export-08-2022.xlsb',\n",
              " 'D:/projects/export_import/data/export\\\\2022\\\\export-09-2022.xlsx',\n",
              " 'D:/projects/export_import/data/export\\\\2022\\\\export-10-2022.xlsx',\n",
              " 'D:/projects/export_import/data/export\\\\2022\\\\export-11-2022.xlsx']"
            ]
          },
          "metadata": {},
          "execution_count": 17
        }
      ]
    },
    {
      "cell_type": "code",
      "source": [
        "file_path = file_list[0]\n",
        "df = pd.read_excel(file_path, sheet_name=0)"
      ],
      "metadata": {
        "id": "Y9xtZHXPg9my"
      },
      "execution_count": 18,
      "outputs": []
    },
    {
      "cell_type": "code",
      "source": [
        "df.shape"
      ],
      "metadata": {
        "colab": {
          "base_uri": "https://localhost:8080/"
        },
        "id": "jHeS-YC1hfk0",
        "outputId": "8e7ff48a-4d11-4843-da26-c32677c003c3"
      },
      "execution_count": 20,
      "outputs": [
        {
          "output_type": "execute_result",
          "data": {
            "text/plain": [
              "(174549, 24)"
            ]
          },
          "metadata": {},
          "execution_count": 20
        }
      ]
    },
    {
      "cell_type": "code",
      "source": [],
      "metadata": {
        "id": "9EVJIjM4nHBr"
      },
      "execution_count": null,
      "outputs": []
    }
  ]
}